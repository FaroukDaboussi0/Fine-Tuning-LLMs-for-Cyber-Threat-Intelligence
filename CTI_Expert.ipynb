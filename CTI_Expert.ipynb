{
 "cells": [
  {
   "cell_type": "markdown",
   "metadata": {},
   "source": [
    "# CTI Expert: Fine-Tuning LLMs for Cyber Threat Intelligence Notebook\n"
   ]
  },
  {
   "cell_type": "markdown",
   "metadata": {},
   "source": [
    "🛠️ Customize and Fine-Tune the Model[ Here](#4-model-fine-tuning)\n",
    "\n",
    "\n",
    "📈 [CTIBench](CTIBench%20Paper.pdf): A Benchmark for Evaluating LLMs in Cyber Threat Intelligence\n",
    "\n"
   ]
  },
  {
   "cell_type": "markdown",
   "metadata": {},
   "source": [
    "## 1. Introduction"
   ]
  },
  {
   "cell_type": "markdown",
   "metadata": {},
   "source": [
    "\n",
    "\n",
    "### 1.1. Background\n",
    "In today's world, cybersecurity is more important than ever. Organizations face constant cyber threats, and Cyber Threat Intelligence (CTI) helps them understand and respond to these threats. CTI provides crucial information that allows companies to protect their critical systems.\n",
    "\n",
    "Large Language Models (LLMs), like GPT-3 and LLaMA, have shown promise in analyzing large amounts of text. These models can assist with various CTI tasks, such as detecting threats and analyzing vulnerabilities. However, LLMs often struggle with specialized tasks like CTI, where accuracy is crucial. Sometimes, they produce incorrect or misleading information, which is especially dangerous in cybersecurity.\n",
    "\n",
    "### 1.2. Problem Statement\n",
    "Although LLMs are good at general text processing, they need specialized benchmarks to see how well they perform in CTI tasks. Current benchmarks don’t fully capture the unique challenges of cybersecurity, such as the need for high accuracy and relevance. Without these benchmarks, it's hard to know how useful LLMs are in real-world cybersecurity scenarios.\n",
    "\n",
    "### 1.3. Project Overview\n",
    "This project aims to fine-tune a pre-trained LLM using CTI-specific data and evaluate its performance with **CTIBench**, a benchmark designed for cybersecurity tasks. CTIBench helps assess how well the model performs on tasks like identifying threat actors, mapping attack techniques, and correlating vulnerabilities. The project involves these steps:\n",
    "1. **Data Collection:** Gathering CTI data from reliable sources.\n",
    "2. **Data Preparation:** Cleaning and organizing the data for effective model training.\n",
    "3. **Model Fine-Tuning:** Adapting a pre-trained LLM to focus on CTI tasks using the prepared dataset.\n",
    "4. **Benchmark Evaluation:** Using CTIBench to thoroughly test the fine-tuned model's performance.\n",
    "5. **Analysis and Insights:** Examining the results to identify where the model excels and where it can improve, with a focus on its real-world application in cybersecurity.\n",
    "\n",
    "### 1.4. Objectives\n",
    "The main goals of this project are:\n",
    "- To create a high-quality CTI dataset for fine-tuning LLMs.\n",
    "- To fine-tune an LLM specifically for CTI tasks.\n",
    "- To evaluate the model’s performance using CTIBench, ensuring it meets the high standards required in cybersecurity.\n",
    "- To provide insights into how well LLMs work in CTI, highlighting their strengths and weaknesses.\n",
    "- To advance AI tools in cybersecurity by offering suggestions for future research and development.\n",
    "\n",
    "\n",
    "### 1.5. Significance\n",
    "By fine-tuning LLMs with CTI data and evaluating them with CTIBench, this project aims to improve the accuracy and reliability of AI tools in cybersecurity. The results will help create better CTI applications, allowing organizations to more effectively predict, identify, and respond to cyber threats. This project also contributes to AI research by providing a specialized evaluation framework that could be used in other fields as well.\n"
   ]
  },
  {
   "cell_type": "markdown",
   "metadata": {},
   "source": [
    "## 2. Data Collection\n",
    "\n"
   ]
  },
  {
   "cell_type": "markdown",
   "metadata": {},
   "source": [
    "The data collection phase is critical for building a robust and comprehensive dataset to fine-tune the Large Language Model (LLM) for Cyber Threat Intelligence (CTI). This project involves collecting data from multiple authoritative sources related to cybersecurity threats, vulnerabilities, and attack techniques.\n"
   ]
  },
  {
   "cell_type": "markdown",
   "metadata": {},
   "source": [
    "### 2.1. CVE Data"
   ]
  },
  {
   "cell_type": "markdown",
   "metadata": {},
   "source": [
    "\n",
    "\n",
    "**Source**: [National Vulnerability Database (NVD)](https://nvd.nist.gov)\n",
    "\n",
    "**Description**: The Common Vulnerabilities and Exposures (CVE) system provides a reference-method for publicly known information-security vulnerabilities and exposures. CVE data is crucial for understanding vulnerabilities that could be exploited in cyber-attacks.\n",
    "\n",
    "**Columns**:\n",
    "- **CVE_ID**: Unique identifier for the vulnerability (e.g., CVE-2023-12345).\n",
    "- **Description**: A brief description of the vulnerability.\n",
    "- **Date_Published**: The date when the vulnerability was published.\n",
    "- **CVSS_Vector_String**: The Common Vulnerability Scoring System vector string that describes the vulnerability's characteristics.\n",
    "- **CWE_IDs**: The Common Weakness Enumeration (CWE) IDs associated with the vulnerability.\n",
    "- **Hyperlinks**: Links to additional information or references about the vulnerability.\n"
   ]
  },
  {
   "cell_type": "markdown",
   "metadata": {},
   "source": [
    "#### 2.1.1 Scraping Technique\n",
    "- **Tools**: `requests`, `BeautifulSoup`\n",
    "- **Process**:\n",
    "  1. Send HTTP requests to the CWE website using the `requests` library.\n",
    "  2. Use `BeautifulSoup` to parse and extract the relevant data from the HTML content.\n",
    "  3. Organize the extracted data into the specified columns.\n",
    "  4. Store the data in a CSV file"
   ]
  },
  {
   "cell_type": "code",
   "execution_count": null,
   "metadata": {},
   "outputs": [],
   "source": [
    "from Scrap.CVE_scrap.scrap_cve_data import scrap_cve_data_from_links\n",
    "from Scrap.CVE_scrap.scrape_cve_links import scrape_all_cve_links\n",
    "\n",
    "\n",
    "cve_links = scrape_all_cve_links()\n",
    "\n",
    "output_cve_data=\"cve_detailed_data.csv\"\n",
    "scrap_cve_data_from_links(cve_links,output_cve_data)\n",
    "\n",
    "\n"
   ]
  },
  {
   "cell_type": "markdown",
   "metadata": {},
   "source": [
    "#### 2.1.2 Summarize data scraped"
   ]
  },
  {
   "cell_type": "markdown",
   "metadata": {},
   "source": [
    "##### 2.1.2.1 Row exemple "
   ]
  },
  {
   "cell_type": "code",
   "execution_count": 43,
   "metadata": {},
   "outputs": [
    {
     "data": {
      "text/html": [
       "<table border=\"1\" class=\"dataframe\">\n",
       "  <thead>\n",
       "    <tr style=\"text-align: right;\">\n",
       "      <th>CVE_ID</th>\n",
       "      <th>Description</th>\n",
       "      <th>Date_Published</th>\n",
       "      <th>CVSS_Vector_String</th>\n",
       "      <th>CWE_IDs</th>\n",
       "      <th>Hyperlinks</th>\n",
       "    </tr>\n",
       "  </thead>\n",
       "  <tbody>\n",
       "    <tr>\n",
       "      <td>CVE-2022-32925</td>\n",
       "      <td>An out-of-bounds write issue was addressed with improved bounds checking. This issue is fixed in tvOS 16, iOS 16, watchOS 9. An app may be able to cause unexpected system termination or write kernel memory.</td>\n",
       "      <td>2022-11-01</td>\n",
       "      <td>CVSS:3.1/AV:L/AC:L/PR:N/UI:R/S:U/C:N/I:H/A:H</td>\n",
       "      <td>CWE-787</td>\n",
       "      <td>https://support.apple.com/en-us/HT213446, https://support.apple.com/en-us/HT213486, https://support.apple.com/en-us/HT213487</td>\n",
       "    </tr>\n",
       "  </tbody>\n",
       "</table>"
      ],
      "text/plain": [
       "<IPython.core.display.HTML object>"
      ]
     },
     "metadata": {},
     "output_type": "display_data"
    }
   ],
   "source": [
    "import pandas as pd\n",
    "from IPython.display import HTML\n",
    "\n",
    "df = pd.read_csv(\"Data/cve_data.csv\")\n",
    "df = df.iloc[:, 1:]\n",
    "\n",
    "html_table = df.head(1).to_html(index=False)\n",
    "display(HTML(html_table))"
   ]
  },
  {
   "cell_type": "markdown",
   "metadata": {},
   "source": [
    "##### 2.1.2.2 Stats  "
   ]
  },
  {
   "cell_type": "code",
   "execution_count": 18,
   "metadata": {},
   "outputs": [
    {
     "data": {
      "text/html": [
       "<table>\n",
       "<thead>\n",
       "<tr><th style=\"text-align: center;\">     Metric     </th><th style=\"text-align: center;\"> Detail </th><th style=\"text-align: center;\">  Value   </th></tr>\n",
       "</thead>\n",
       "<tbody>\n",
       "<tr><td style=\"text-align: center;\">   Date Range   </td><td style=\"text-align: center;\">Min Date</td><td style=\"text-align: center;\">2019-10-23</td></tr>\n",
       "<tr><td style=\"text-align: center;\">   Date Range   </td><td style=\"text-align: center;\">Max Date</td><td style=\"text-align: center;\">2023-11-30</td></tr>\n",
       "<tr><td style=\"text-align: center;\">Distinct CVE_IDs</td><td style=\"text-align: center;\">        </td><td style=\"text-align: center;\">  73919   </td></tr>\n",
       "<tr><td style=\"text-align: center;\">Distinct CWE_IDs</td><td style=\"text-align: center;\">        </td><td style=\"text-align: center;\">   857    </td></tr>\n",
       "</tbody>\n",
       "</table>"
      ],
      "text/plain": [
       "<IPython.core.display.HTML object>"
      ]
     },
     "metadata": {},
     "output_type": "display_data"
    }
   ],
   "source": [
    "from matplotlib import pyplot as plt\n",
    "import pandas as pd\n",
    "from tabulate import tabulate\n",
    "from IPython.display import display, HTML\n",
    "\n",
    "# Load data\n",
    "df = pd.read_csv(\"Data\\collected_data\\cve_data.csv\")\n",
    "df['Date_Published'] = pd.to_datetime(df['Date_Published'], errors='coerce')\n",
    "\n",
    "# Metrics calculation\n",
    "date_range = df['Date_Published'].agg(['min', 'max'])\n",
    "distinct_cve_count = df['CVE_ID'].nunique()\n",
    "df['CWE_IDs'] = df['CWE_IDs'].astype(str)\n",
    "cwe_ids = df['CWE_IDs'].str.split(',', expand=True).stack()\n",
    "distinct_cwe_count = cwe_ids.nunique()\n",
    "\n",
    "# Create consolidated table\n",
    "metrics_table = [\n",
    "    ['Date Range', 'Min Date', date_range['min'].strftime('%Y-%m-%d')],\n",
    "    ['Date Range', 'Max Date', date_range['max'].strftime('%Y-%m-%d')],\n",
    "    ['Distinct CVE_IDs', '', distinct_cve_count],\n",
    "    ['Distinct CWE_IDs', '', distinct_cwe_count]\n",
    "]\n",
    "\n",
    "# Convert to HTML table\n",
    "html_metrics_table = tabulate(metrics_table, headers=['Metric', 'Detail', 'Value'], tablefmt='html', stralign='center')\n",
    "\n",
    "# Display the table\n",
    "display(HTML(html_metrics_table))\n"
   ]
  },
  {
   "cell_type": "markdown",
   "metadata": {},
   "source": [
    "##### 2.1.2.3 Distribution of CVEs Over Time"
   ]
  },
  {
   "cell_type": "code",
   "execution_count": 14,
   "metadata": {},
   "outputs": [
    {
     "data": {
      "image/png": "[encoded data removed]",
      "text/plain": [
       "<Figure size 1200x600 with 1 Axes>"
      ]
     },
     "metadata": {},
     "output_type": "display_data"
    }
   ],
   "source": [
    "# Plot distribution of CVE publications over time\n",
    "plt.figure(figsize=(12, 6))\n",
    "plt.hist(df['Date_Published'], bins=30, edgecolor='k', color='skyblue')\n",
    "plt.title('Distribution of CVE Publications Over Time', fontsize=14)\n",
    "plt.xlabel('Publication Date', fontsize=12)\n",
    "plt.ylabel('Frequency', fontsize=12)\n",
    "plt.xticks(rotation=45)\n",
    "plt.grid(axis='y', linestyle='--', alpha=0.7)\n",
    "plt.tight_layout()\n",
    "plt.show()"
   ]
  },
  {
   "cell_type": "markdown",
   "metadata": {},
   "source": [
    "### 2.2. CWE Data "
   ]
  },
  {
   "cell_type": "markdown",
   "metadata": {},
   "source": [
    "\n",
    "\n",
    "#### 2.2.1. Description\n",
    "The Common Weakness Enumeration (CWE) dataset provides a list of software weaknesses that can lead to vulnerabilities. The dataset includes the following columns:\n",
    "- **ID**: The unique identifier for the weakness.\n",
    "- **Description**: A brief description of the weakness.\n",
    "- **Extended Description**: A detailed description providing more context about the weakness.\n",
    "- **References**: External references or resources related to the weakness.\n",
    "\n",
    "#### 2.2.2. Data Source\n",
    "- **Source**: [CWE - MITRE](https://cwe.mitre.org)\n",
    "\n",
    "#### 2.2.3. Scraping Technique\n",
    "- **Tools**: `requests`, `BeautifulSoup`\n",
    "- **Process**:\n",
    "  1. Send HTTP requests to the CWE website using the `requests` library.\n",
    "  2. Use `BeautifulSoup` to parse and extract the relevant data from the HTML content.\n",
    "  3. Organize the extracted data into the specified columns.\n",
    "  4. Store the data in a CSV file or database."
   ]
  },
  {
   "cell_type": "code",
   "execution_count": null,
   "metadata": {},
   "outputs": [],
   "source": [
    "import pandas as pd\n",
    "\n",
    "from Scrap.CWE_scrap.scarape_cwe import get_cwe_ids, scrape_cwe_data\n",
    "\n",
    "\n",
    "id_list_filename = 'Data\\logs\\cwec_v4.15.xml'  \n",
    "list_of_cwe_ids = get_cwe_ids(id_list_filename)\n",
    "\n",
    "scraped_data = []\n",
    "\n",
    "for cwe_id in list_of_cwe_ids:\n",
    "    data = scrape_cwe_data(cwe_id)\n",
    "    if data:\n",
    "        scraped_data.append(data)\n",
    "\n",
    "cwe_data = pd.Dataframe(scraped_data)\n",
    "cwe_data.to_csv(\"Data\\cwe_data.csv\")\n"
   ]
  },
  {
   "cell_type": "markdown",
   "metadata": {},
   "source": [
    "#### 2.2.2 Summarize data scraped"
   ]
  },
  {
   "cell_type": "markdown",
   "metadata": {},
   "source": [
    "##### 2.2.2.1 Row exemple "
   ]
  },
  {
   "cell_type": "code",
   "execution_count": 4,
   "metadata": {},
   "outputs": [
    {
     "data": {
      "text/html": [
       "<table border=\"1\" class=\"dataframe\">\n",
       "  <thead>\n",
       "    <tr style=\"text-align: right;\">\n",
       "      <th>ID</th>\n",
       "      <th>Description</th>\n",
       "      <th>Extended Description</th>\n",
       "      <th>References</th>\n",
       "    </tr>\n",
       "  </thead>\n",
       "  <tbody>\n",
       "    <tr>\n",
       "      <td>CWE-1004</td>\n",
       "      <td>The product uses a cookie to store sensitive information, but the cookie is not marked with the HttpOnly flag.</td>\n",
       "      <td>The HttpOnly flag directs compatible browsers to prevent client-side script from accessing cookies. Including the HttpOnly flag in the Set-Cookie HTTP response header helps mitigate the risk associated with Cross-Site Scripting (XSS) where an attacker's script code might attempt to read the contents of a cookie and exfiltrate information obtained. When set, browsers that support the flag will not reveal the contents of the cookie to a third party via client-side script executed via XSS.</td>\n",
       "      <td>['https://owasp.org/www-community/HttpOnly', 'https://learn.microsoft.com/en-us/previous-versions/ms972826(v=msdn.10)?redirectedfrom=MSDN', 'https://www.troyhunt.com/c-is-for-cookie-h-is-for-hacker/', 'https://learn.microsoft.com/en-us/previous-versions//ms533046(v=vs.85)?redirectedfrom=MSDN']</td>\n",
       "    </tr>\n",
       "  </tbody>\n",
       "</table>"
      ],
      "text/plain": [
       "<IPython.core.display.HTML object>"
      ]
     },
     "metadata": {},
     "output_type": "display_data"
    }
   ],
   "source": [
    "from IPython.display import HTML\n",
    "import pandas as pd\n",
    "\n",
    "cwe_data = pd.read_csv(\"Data\\collected_data\\cwe_data.csv\")\n",
    "\n",
    "cwe_data[\"ID\"] = cwe_data[\"ID\"].apply(lambda x: f\"CWE-{x}\")\n",
    "\n",
    "\n",
    "html_table = cwe_data.head(1).to_html(index=False)\n",
    "\n",
    "display(HTML(html_table))"
   ]
  },
  {
   "cell_type": "markdown",
   "metadata": {},
   "source": [
    "##### 2.2.2.2 Stats  "
   ]
  },
  {
   "cell_type": "code",
   "execution_count": 39,
   "metadata": {},
   "outputs": [
    {
     "data": {
      "text/html": [
       "<table>\n",
       "<thead>\n",
       "<tr><th style=\"text-align: center;\">     Metric     </th><th style=\"text-align: right;\">  Value</th></tr>\n",
       "</thead>\n",
       "<tbody>\n",
       "<tr><td style=\"text-align: center;\">Distinct CWE_IDs</td><td style=\"text-align: right;\">    857</td></tr>\n",
       "</tbody>\n",
       "</table>"
      ],
      "text/plain": [
       "<IPython.core.display.HTML object>"
      ]
     },
     "metadata": {},
     "output_type": "display_data"
    }
   ],
   "source": [
    "import pandas as pd\n",
    "\n",
    "# Number of distinct CVE_ID values\n",
    "distinct_cve_count = cwe_data['ID'].nunique()\n",
    "\n",
    "# Prepare the data for tabulate\n",
    "table_data = [['Distinct CWE_IDs', distinct_cwe_count]]\n",
    "\n",
    "# Convert to HTML using tabulate\n",
    "html_table = tabulate(table_data, headers=['Metric', 'Value'], tablefmt='html', stralign='center')\n",
    "\n",
    "# Display the HTML table\n",
    "display(HTML(html_table))"
   ]
  },
  {
   "cell_type": "markdown",
   "metadata": {},
   "source": [
    "### 2.3. Attack Patterns (Techniques) "
   ]
  },
  {
   "cell_type": "markdown",
   "metadata": {},
   "source": [
    "\n",
    "\n",
    "#### 2.3.1. Description\n",
    "The dataset for attack patterns, also known as techniques, includes detailed information on how adversaries carry out attacks. The dataset includes the following fields:\n",
    "- **ID**: The unique identifier for the technique.\n",
    "- **Technique Name**: The name of the technique.\n",
    "- **Description**: A description of how the technique is executed.\n",
    "- **Platforms**: The platforms targeted by the technique.\n",
    "- **Detection**: Methods for detecting the technique.\n",
    "- **Defense Bypassed**: A list of defenses that can be bypassed using the technique.\n",
    "- **Kill Chain Phases**: A list of Kill Chain Phases, each containing `kill_chain_name` and `phase_name`.\n",
    "- **Related Malwares**: A list of Malwares, each containing `ID`, `Malware Name`, and `comment`.\n",
    "- **Related Tools**: A list of Tools, each containing `ID`, `Tool Name`, and `comment`.\n",
    "- **Related Intrusion Sets**: A list of Intrusion Sets, each containing `ID`, `intrusion set name`, and `comment`.\n",
    "- **Related Campaigns**: A list of Campaigns, each containing `ID`, `Campaign Name`, and `comment`.\n",
    "- **Mitigations**: A list of Mitigations, each containing `ID`, `Course of Action Name`, `Description`, and `comment`.\n",
    "\n",
    "#### 2.3.2. Data Source\n",
    "- **Source**: [MITRE ATT&CK](https://attack.mitre.org)\n",
    "\n",
    "#### 2.3.3. Scraping Technique\n",
    "- **Tools**: `requests`, `BeautifulSoup`, `Selenium`\n",
    "- **Process**:\n",
    "  1. Send HTTP requests using the `requests` library to retrieve the web pages from the ATT&CK framework.\n",
    "  2. Use `BeautifulSoup` to parse static content. For dynamic content or complex interactions, use `Selenium` to automate web browsing and extract data.\n",
    "  3. Parse the data into the defined fields, handling nested structures for related malwares, tools, intrusion sets, campaigns, and mitigations.\n",
    "  4. Save the structured data in a suitable format, such as JSON or a database."
   ]
  },
  {
   "cell_type": "code",
   "execution_count": null,
   "metadata": {},
   "outputs": [],
   "source": [
    "\n",
    "\n",
    "from Scrap.Techniques_scrap.techniques_scrap import extract_techniques_base_data, populate_attack_patterns_with_scrapped_data, scrap_data_related_to_techniques\n",
    "\n",
    "\n",
    "data='data/STIX_enterprise_attack.json'\n",
    "techniques_base_data = extract_techniques_base_data(data)\n",
    "\n",
    "\n",
    "attack_patterns, intrusion_sets, campaigns , malwares , tools , course_of_actions =  scrap_data_related_to_techniques(techniques_base_data)\n",
    "\n",
    "attack_patterns = populate_attack_patterns_with_scrapped_data(attack_patterns,malwares,tools,intrusion_sets,campaigns,course_of_actions)\n"
   ]
  },
  {
   "cell_type": "markdown",
   "metadata": {},
   "source": [
    "#### 2.3.4 Summarize data scraped"
   ]
  },
  {
   "cell_type": "markdown",
   "metadata": {},
   "source": [
    "#### 2.3.4.1 Stats"
   ]
  },
  {
   "cell_type": "code",
   "execution_count": 55,
   "metadata": {},
   "outputs": [
    {
     "data": {
      "text/html": [
       "<table>\n",
       "<thead>\n",
       "<tr><th style=\"text-align: center;\">       Metric       </th><th style=\"text-align: right;\">  Value</th></tr>\n",
       "</thead>\n",
       "<tbody>\n",
       "<tr><td style=\"text-align: center;\">Number of techniques</td><td style=\"text-align: right;\">    780</td></tr>\n",
       "</tbody>\n",
       "</table>"
      ],
      "text/plain": [
       "<IPython.core.display.HTML object>"
      ]
     },
     "metadata": {},
     "output_type": "display_data"
    }
   ],
   "source": [
    "\n",
    "import json\n",
    "import pandas as pd\n",
    "\n",
    "with open('Data/Full_attack_patterns_data.json', 'r') as file:\n",
    "    data = json.load(file)\n",
    "# Count the number of objects\n",
    "if isinstance(data, list):\n",
    "    num_objects = len(data)\n",
    "elif isinstance(data, dict):\n",
    "    num_objects = len(data)  # Adjust based on the actual structure\n",
    "else:\n",
    "    num_objects = 0\n",
    "from IPython.display import HTML, display\n",
    "# Prepare the data for tabulate\n",
    "table_data = [['Number of techniques', num_objects]]\n",
    "\n",
    "# Convert to HTML using tabulate\n",
    "html_table = tabulate(table_data, headers=['Metric', 'Value'], tablefmt='html', stralign='center')\n",
    "\n",
    "# Display the HTML table\n",
    "display(HTML(html_table))\n"
   ]
  },
  {
   "cell_type": "markdown",
   "metadata": {},
   "source": [
    "#### 2.3.4.2 Exemple of technique data scrapped\n"
   ]
  },
  {
   "cell_type": "code",
   "execution_count": 56,
   "metadata": {},
   "outputs": [
    {
     "name": "stdout",
     "output_type": "stream",
     "text": [
      "exemple of technique data scrapped\n"
     ]
    },
    {
     "data": {
      "text/html": [
       "<pre style='font-size: 12px;padding: 10px; border: 1px solid #ddd;'>{\n",
       "&nbsp;&nbsp;&nbsp;&nbsp;\"Technique Name\": \"Domain Account\",\n",
       "&nbsp;&nbsp;&nbsp;&nbsp;\"Description\": \"Adversaries may attempt to get a listing of domain accounts. This information can help adversaries determine which domain accounts exist to aid in follow-on behavior such as targeting specific accounts which possess particular privileges.\\n\\nCommands such as <code>net user /domain</code> and <code>net group /domain</code> of the [Net] utility, <code>dscacheutil -q group</code>on macOS, and <code>ldapsearch</code> on Linux can list domain users and groups. [PowerShell] cmdlets including <code>Get-ADUser</code> and <code>Get-ADGroupMember</code> may enumerate members of Active Directory groups.(Citation: CrowdStrike StellarParticle January 2022)&nbsp;&nbsp;\",\n",
       "&nbsp;&nbsp;&nbsp;&nbsp;\"Platforms\": [\n",
       "&nbsp;&nbsp;&nbsp;&nbsp;&nbsp;&nbsp;&nbsp;&nbsp;\"Linux\",\n",
       "&nbsp;&nbsp;&nbsp;&nbsp;&nbsp;&nbsp;&nbsp;&nbsp;\"macOS\",\n",
       "&nbsp;&nbsp;&nbsp;&nbsp;&nbsp;&nbsp;&nbsp;&nbsp;\"Windows\"\n",
       "&nbsp;&nbsp;&nbsp;&nbsp;],\n",
       "&nbsp;&nbsp;&nbsp;&nbsp;\"Detection\": \"System and network discovery techniques normally occur throughout an operation as an adversary learns the environment. Data and events should not be viewed in isolation, but as part of a chain of behavior that could lead to other activities, such as Lateral Movement, based on the information obtained.\\n\\nMonitor processes and command-line arguments for actions that could be taken to gather system and network information. Remote access tools with built-in features may interact directly with the Windows API to gather information. Information may also be acquired through Windows system management tools such as [Windows Management Instrumentation] and [PowerShell].\\n\",\n",
       "&nbsp;&nbsp;&nbsp;&nbsp;\"Is Subtechnique\": true,\n",
       "&nbsp;&nbsp;&nbsp;&nbsp;\"Defense Bypassed\": null,\n",
       "&nbsp;&nbsp;&nbsp;&nbsp;\"Kill Chain Phases\": [\n",
       "&nbsp;&nbsp;&nbsp;&nbsp;&nbsp;&nbsp;&nbsp;&nbsp;{\n",
       "&nbsp;&nbsp;&nbsp;&nbsp;&nbsp;&nbsp;&nbsp;&nbsp;&nbsp;&nbsp;&nbsp;&nbsp;\"kill_chain_name\": \"mitre-attack\",\n",
       "&nbsp;&nbsp;&nbsp;&nbsp;&nbsp;&nbsp;&nbsp;&nbsp;&nbsp;&nbsp;&nbsp;&nbsp;\"phase_name\": \"discovery\"\n",
       "&nbsp;&nbsp;&nbsp;&nbsp;&nbsp;&nbsp;&nbsp;&nbsp;}\n",
       "&nbsp;&nbsp;&nbsp;&nbsp;],\n",
       "&nbsp;&nbsp;&nbsp;&nbsp;\"External ID\": \"T1087.002\",\n",
       "&nbsp;&nbsp;&nbsp;&nbsp;\"related_malwares\": [\n",
       "&nbsp;&nbsp;&nbsp;&nbsp;&nbsp;&nbsp;&nbsp;&nbsp;{\n",
       "&nbsp;&nbsp;&nbsp;&nbsp;&nbsp;&nbsp;&nbsp;&nbsp;&nbsp;&nbsp;&nbsp;&nbsp;\"comment\": \"[Stuxnet](S0603) enumerates user accounts of the domain.(Citation: Nicolas Falliere, Liam O Murchu, Eric Chien February 2011)\",\n",
       "&nbsp;&nbsp;&nbsp;&nbsp;&nbsp;&nbsp;&nbsp;&nbsp;&nbsp;&nbsp;&nbsp;&nbsp;\"Malware Name\": \"Stuxnet\",\n",
       "&nbsp;&nbsp;&nbsp;&nbsp;&nbsp;&nbsp;&nbsp;&nbsp;&nbsp;&nbsp;&nbsp;&nbsp;\"External ID\": \"S0603\"\n",
       "&nbsp;&nbsp;&nbsp;&nbsp;&nbsp;&nbsp;&nbsp;&nbsp;},\n",
       "&nbsp;&nbsp;&nbsp;&nbsp;&nbsp;&nbsp;&nbsp;&nbsp;{\n",
       "&nbsp;&nbsp;&nbsp;&nbsp;&nbsp;&nbsp;&nbsp;&nbsp;&nbsp;&nbsp;&nbsp;&nbsp;\"comment\": \"[POWRUNER](S0184) may collect user account information by running net user /domain or a series of other commands on a victim.(Citation: FireEye APT34 Dec 2017)\",\n",
       "&nbsp;&nbsp;&nbsp;&nbsp;&nbsp;&nbsp;&nbsp;&nbsp;&nbsp;&nbsp;&nbsp;&nbsp;\"Malware Name\": \"POWRUNER\",\n",
       "&nbsp;&nbsp;&nbsp;&nbsp;&nbsp;&nbsp;&nbsp;&nbsp;&nbsp;&nbsp;&nbsp;&nbsp;\"External ID\": \"S0184\"\n",
       "&nbsp;&nbsp;&nbsp;&nbsp;&nbsp;&nbsp;&nbsp;&nbsp;},\n",
       "&nbsp;&nbsp;&nbsp;&nbsp;&nbsp;&nbsp;&nbsp;&nbsp;{\n",
       "&nbsp;&nbsp;&nbsp;&nbsp;&nbsp;&nbsp;&nbsp;&nbsp;&nbsp;&nbsp;&nbsp;&nbsp;\"comment\": \"[Bankshot](S0239) gathers domain and account names/information through process monitoring.(Citation: McAfee Bankshot)\",\n",
       "&nbsp;&nbsp;&nbsp;&nbsp;&nbsp;&nbsp;&nbsp;&nbsp;&nbsp;&nbsp;&nbsp;&nbsp;\"Malware Name\": \"Bankshot\",\n",
       "&nbsp;&nbsp;&nbsp;&nbsp;&nbsp;&nbsp;&nbsp;&nbsp;&nbsp;&nbsp;&nbsp;&nbsp;\"External ID\": \"S0239\"\n",
       "&nbsp;&nbsp;&nbsp;&nbsp;&nbsp;&nbsp;&nbsp;&nbsp;},\n",
       "&nbsp;&nbsp;&nbsp;&nbsp;&nbsp;&nbsp;&nbsp;&nbsp;{\n",
       "&nbsp;&nbsp;&nbsp;&nbsp;&nbsp;&nbsp;&nbsp;&nbsp;&nbsp;&nbsp;&nbsp;&nbsp;\"comment\": \"[BlackCat](S1068) can utilize `net use` commands to identify domain users.(Citation: Microsoft BlackCat Jun 2022)\",\n",
       "&nbsp;&nbsp;&nbsp;&nbsp;&nbsp;&nbsp;&nbsp;&nbsp;&nbsp;&nbsp;&nbsp;&nbsp;\"Malware Name\": \"BlackCat\",\n",
       "&nbsp;&nbsp;&nbsp;&nbsp;&nbsp;&nbsp;&nbsp;&nbsp;&nbsp;&nbsp;&nbsp;&nbsp;\"External ID\": \"S1068\"\n",
       "&nbsp;&nbsp;&nbsp;&nbsp;&nbsp;&nbsp;&nbsp;&nbsp;},\n",
       "&nbsp;&nbsp;&nbsp;&nbsp;&nbsp;&nbsp;&nbsp;&nbsp;{\n",
       "&nbsp;&nbsp;&nbsp;&nbsp;&nbsp;&nbsp;&nbsp;&nbsp;&nbsp;&nbsp;&nbsp;&nbsp;\"comment\": \"[IcedID](S0483) can query LDAP to identify additional users on the network to infect.(Citation: IBM IcedID November 2017)\",\n",
       "&nbsp;&nbsp;&nbsp;&nbsp;&nbsp;&nbsp;&nbsp;&nbsp;&nbsp;&nbsp;&nbsp;&nbsp;\"Malware Name\": \"IcedID\",\n",
       "&nbsp;&nbsp;&nbsp;&nbsp;&nbsp;&nbsp;&nbsp;&nbsp;&nbsp;&nbsp;&nbsp;&nbsp;\"External ID\": \"S0483\"\n",
       "&nbsp;&nbsp;&nbsp;&nbsp;&nbsp;&nbsp;&nbsp;&nbsp;},\n",
       "&nbsp;&nbsp;&nbsp;&nbsp;&nbsp;&nbsp;&nbsp;&nbsp;{\n",
       "&nbsp;&nbsp;&nbsp;&nbsp;&nbsp;&nbsp;&nbsp;&nbsp;&nbsp;&nbsp;&nbsp;&nbsp;\"comment\": \"[Sykipot](S0018) may use net group \\\"domain admins\\\" /domain to display accounts in the \\\"domain admins\\\" permissions group and net localgroup \\\"administrators\\\" to list local system administrator group membership.(Citation: AlienVault Sykipot 2011)\",\n",
       "&nbsp;&nbsp;&nbsp;&nbsp;&nbsp;&nbsp;&nbsp;&nbsp;&nbsp;&nbsp;&nbsp;&nbsp;\"Malware Name\": \"Sykipot\",\n",
       "&nbsp;&nbsp;&nbsp;&nbsp;&nbsp;&nbsp;&nbsp;&nbsp;&nbsp;&nbsp;&nbsp;&nbsp;\"External ID\": \"S0018\"\n",
       "&nbsp;&nbsp;&nbsp;&nbsp;&nbsp;&nbsp;&nbsp;&nbsp;},\n",
       "&nbsp;&nbsp;&nbsp;&nbsp;&nbsp;&nbsp;&nbsp;&nbsp;{\n",
       "&nbsp;&nbsp;&nbsp;&nbsp;&nbsp;&nbsp;&nbsp;&nbsp;&nbsp;&nbsp;&nbsp;&nbsp;\"comment\": \"[Bazar](S0534) has the ability to identify domain administrator accounts.(Citation: NCC Group Team9 June 2020)(Citation: DFIR Ryuk's Return October 2020)\",\n",
       "&nbsp;&nbsp;&nbsp;&nbsp;&nbsp;&nbsp;&nbsp;&nbsp;&nbsp;&nbsp;&nbsp;&nbsp;\"Malware Name\": \"Bazar\",\n",
       "&nbsp;&nbsp;&nbsp;&nbsp;&nbsp;&nbsp;&nbsp;&nbsp;&nbsp;&nbsp;&nbsp;&nbsp;\"External ID\": \"S0534\"\n",
       "&nbsp;&nbsp;&nbsp;&nbsp;&nbsp;&nbsp;&nbsp;&nbsp;},\n",
       "&nbsp;&nbsp;&nbsp;&nbsp;&nbsp;&nbsp;&nbsp;&nbsp;{\n",
       "&nbsp;&nbsp;&nbsp;&nbsp;&nbsp;&nbsp;&nbsp;&nbsp;&nbsp;&nbsp;&nbsp;&nbsp;\"comment\": \"[Cobalt Strike](S0154) can determine if the user on an infected machine is in the admin or domain admin group.(Citation: Cyberreason Anchor December 2019)\",\n",
       "&nbsp;&nbsp;&nbsp;&nbsp;&nbsp;&nbsp;&nbsp;&nbsp;&nbsp;&nbsp;&nbsp;&nbsp;\"Malware Name\": \"Cobalt Strike\",\n",
       "&nbsp;&nbsp;&nbsp;&nbsp;&nbsp;&nbsp;&nbsp;&nbsp;&nbsp;&nbsp;&nbsp;&nbsp;\"External ID\": \"S0154\"\n",
       "&nbsp;&nbsp;&nbsp;&nbsp;&nbsp;&nbsp;&nbsp;&nbsp;},\n",
       "&nbsp;&nbsp;&nbsp;&nbsp;&nbsp;&nbsp;&nbsp;&nbsp;{\n",
       "&nbsp;&nbsp;&nbsp;&nbsp;&nbsp;&nbsp;&nbsp;&nbsp;&nbsp;&nbsp;&nbsp;&nbsp;\"comment\": \"[Valak](S0476) has the ability to enumerate domain admin accounts.(Citation: Cybereason Valak May 2020)\",\n",
       "&nbsp;&nbsp;&nbsp;&nbsp;&nbsp;&nbsp;&nbsp;&nbsp;&nbsp;&nbsp;&nbsp;&nbsp;\"Malware Name\": \"Valak\",\n",
       "&nbsp;&nbsp;&nbsp;&nbsp;&nbsp;&nbsp;&nbsp;&nbsp;&nbsp;&nbsp;&nbsp;&nbsp;\"External ID\": \"S0476\"\n",
       "&nbsp;&nbsp;&nbsp;&nbsp;&nbsp;&nbsp;&nbsp;&nbsp;},\n",
       "&nbsp;&nbsp;&nbsp;&nbsp;&nbsp;&nbsp;&nbsp;&nbsp;{\n",
       "&nbsp;&nbsp;&nbsp;&nbsp;&nbsp;&nbsp;&nbsp;&nbsp;&nbsp;&nbsp;&nbsp;&nbsp;\"comment\": \"[BoomBox](S0635) has the ability to execute an LDAP query to enumerate the distinguished name, SAM account name, and display name for all domain users.(Citation: MSTIC Nobelium Toolset May 2021)\",\n",
       "&nbsp;&nbsp;&nbsp;&nbsp;&nbsp;&nbsp;&nbsp;&nbsp;&nbsp;&nbsp;&nbsp;&nbsp;\"Malware Name\": \"BoomBox\",\n",
       "&nbsp;&nbsp;&nbsp;&nbsp;&nbsp;&nbsp;&nbsp;&nbsp;&nbsp;&nbsp;&nbsp;&nbsp;\"External ID\": \"S0635\"\n",
       "&nbsp;&nbsp;&nbsp;&nbsp;&nbsp;&nbsp;&nbsp;&nbsp;},\n",
       "&nbsp;&nbsp;&nbsp;&nbsp;&nbsp;&nbsp;&nbsp;&nbsp;{\n",
       "&nbsp;&nbsp;&nbsp;&nbsp;&nbsp;&nbsp;&nbsp;&nbsp;&nbsp;&nbsp;&nbsp;&nbsp;\"comment\": \"The [IceApple](S1022) Active Directory Querier module&nbsp;&nbsp;can perform authenticated requests against an Active Directory server.(Citation: CrowdStrike IceApple May 2022)\",\n",
       "&nbsp;&nbsp;&nbsp;&nbsp;&nbsp;&nbsp;&nbsp;&nbsp;&nbsp;&nbsp;&nbsp;&nbsp;\"Malware Name\": \"IceApple\",\n",
       "&nbsp;&nbsp;&nbsp;&nbsp;&nbsp;&nbsp;&nbsp;&nbsp;&nbsp;&nbsp;&nbsp;&nbsp;\"External ID\": \"S1022\"\n",
       "&nbsp;&nbsp;&nbsp;&nbsp;&nbsp;&nbsp;&nbsp;&nbsp;},\n",
       "&nbsp;&nbsp;&nbsp;&nbsp;&nbsp;&nbsp;&nbsp;&nbsp;{\n",
       "&nbsp;&nbsp;&nbsp;&nbsp;&nbsp;&nbsp;&nbsp;&nbsp;&nbsp;&nbsp;&nbsp;&nbsp;\"comment\": \"[SoreFang](S0516) can enumerate domain accounts via net.exe user /domain.(Citation: CISA SoreFang July 2016)\",\n",
       "&nbsp;&nbsp;&nbsp;&nbsp;&nbsp;&nbsp;&nbsp;&nbsp;&nbsp;&nbsp;&nbsp;&nbsp;\"Malware Name\": \"SoreFang\",\n",
       "&nbsp;&nbsp;&nbsp;&nbsp;&nbsp;&nbsp;&nbsp;&nbsp;&nbsp;&nbsp;&nbsp;&nbsp;\"External ID\": \"S0516\"\n",
       "&nbsp;&nbsp;&nbsp;&nbsp;&nbsp;&nbsp;&nbsp;&nbsp;},\n",
       "&nbsp;&nbsp;&nbsp;&nbsp;&nbsp;&nbsp;&nbsp;&nbsp;{\n",
       "&nbsp;&nbsp;&nbsp;&nbsp;&nbsp;&nbsp;&nbsp;&nbsp;&nbsp;&nbsp;&nbsp;&nbsp;\"comment\": \"[OSInfo](S0165) enumerates local and domain users(Citation: Symantec Buckeye)\",\n",
       "&nbsp;&nbsp;&nbsp;&nbsp;&nbsp;&nbsp;&nbsp;&nbsp;&nbsp;&nbsp;&nbsp;&nbsp;\"Malware Name\": \"OSInfo\",\n",
       "&nbsp;&nbsp;&nbsp;&nbsp;&nbsp;&nbsp;&nbsp;&nbsp;&nbsp;&nbsp;&nbsp;&nbsp;\"External ID\": \"S0165\"\n",
       "&nbsp;&nbsp;&nbsp;&nbsp;&nbsp;&nbsp;&nbsp;&nbsp;}\n",
       "&nbsp;&nbsp;&nbsp;&nbsp;],\n",
       "&nbsp;&nbsp;&nbsp;&nbsp;\"related_tools\": [\n",
       "&nbsp;&nbsp;&nbsp;&nbsp;&nbsp;&nbsp;&nbsp;&nbsp;{\n",
       "&nbsp;&nbsp;&nbsp;&nbsp;&nbsp;&nbsp;&nbsp;&nbsp;&nbsp;&nbsp;&nbsp;&nbsp;\"comment\": \"[Net](S0039) commands used with the /domain flag can be used to gather information about and manipulate user accounts on the current domain.(Citation: Microsoft Net)\",\n",
       "&nbsp;&nbsp;&nbsp;&nbsp;&nbsp;&nbsp;&nbsp;&nbsp;&nbsp;&nbsp;&nbsp;&nbsp;\"Tool Name\": \"Net\",\n",
       "&nbsp;&nbsp;&nbsp;&nbsp;&nbsp;&nbsp;&nbsp;&nbsp;&nbsp;&nbsp;&nbsp;&nbsp;\"External ID\": \"S0039\"\n",
       "&nbsp;&nbsp;&nbsp;&nbsp;&nbsp;&nbsp;&nbsp;&nbsp;},\n",
       "&nbsp;&nbsp;&nbsp;&nbsp;&nbsp;&nbsp;&nbsp;&nbsp;{\n",
       "&nbsp;&nbsp;&nbsp;&nbsp;&nbsp;&nbsp;&nbsp;&nbsp;&nbsp;&nbsp;&nbsp;&nbsp;\"comment\": \"[BloodHound](S0521) can collect information about domain users, including identification of domain admin accounts.(Citation: CrowdStrike BloodHound April 2018)\",\n",
       "&nbsp;&nbsp;&nbsp;&nbsp;&nbsp;&nbsp;&nbsp;&nbsp;&nbsp;&nbsp;&nbsp;&nbsp;\"Tool Name\": \"BloodHound\",\n",
       "&nbsp;&nbsp;&nbsp;&nbsp;&nbsp;&nbsp;&nbsp;&nbsp;&nbsp;&nbsp;&nbsp;&nbsp;\"External ID\": \"S0521\"\n",
       "&nbsp;&nbsp;&nbsp;&nbsp;&nbsp;&nbsp;&nbsp;&nbsp;},\n",
       "&nbsp;&nbsp;&nbsp;&nbsp;&nbsp;&nbsp;&nbsp;&nbsp;{\n",
       "&nbsp;&nbsp;&nbsp;&nbsp;&nbsp;&nbsp;&nbsp;&nbsp;&nbsp;&nbsp;&nbsp;&nbsp;\"comment\": \"[SILENTTRINITY](S0692) can use `System.Security.AccessControl` namespaces to retrieve domain user information.(Citation: GitHub SILENTTRINITY Modules July 2019)&nbsp;&nbsp;\",\n",
       "&nbsp;&nbsp;&nbsp;&nbsp;&nbsp;&nbsp;&nbsp;&nbsp;&nbsp;&nbsp;&nbsp;&nbsp;\"Tool Name\": \"SILENTTRINITY\",\n",
       "&nbsp;&nbsp;&nbsp;&nbsp;&nbsp;&nbsp;&nbsp;&nbsp;&nbsp;&nbsp;&nbsp;&nbsp;\"External ID\": \"S0692\"\n",
       "&nbsp;&nbsp;&nbsp;&nbsp;&nbsp;&nbsp;&nbsp;&nbsp;},\n",
       "&nbsp;&nbsp;&nbsp;&nbsp;&nbsp;&nbsp;&nbsp;&nbsp;{\n",
       "&nbsp;&nbsp;&nbsp;&nbsp;&nbsp;&nbsp;&nbsp;&nbsp;&nbsp;&nbsp;&nbsp;&nbsp;\"comment\": \"[Empire](S0363) can acquire local and domain user account information.(Citation: Github PowerShell Empire)(Citation: SecureWorks August 2019)\",\n",
       "&nbsp;&nbsp;&nbsp;&nbsp;&nbsp;&nbsp;&nbsp;&nbsp;&nbsp;&nbsp;&nbsp;&nbsp;\"Tool Name\": \"Empire\",\n",
       "&nbsp;&nbsp;&nbsp;&nbsp;&nbsp;&nbsp;&nbsp;&nbsp;&nbsp;&nbsp;&nbsp;&nbsp;\"External ID\": \"S0363\"\n",
       "&nbsp;&nbsp;&nbsp;&nbsp;&nbsp;&nbsp;&nbsp;&nbsp;},\n",
       "&nbsp;&nbsp;&nbsp;&nbsp;&nbsp;&nbsp;&nbsp;&nbsp;{\n",
       "&nbsp;&nbsp;&nbsp;&nbsp;&nbsp;&nbsp;&nbsp;&nbsp;&nbsp;&nbsp;&nbsp;&nbsp;\"comment\": \"[dsquery](S0105) can be used to gather information on user accounts within a domain.(Citation: TechNet Dsquery)(Citation: Mandiant APT41)\",\n",
       "&nbsp;&nbsp;&nbsp;&nbsp;&nbsp;&nbsp;&nbsp;&nbsp;&nbsp;&nbsp;&nbsp;&nbsp;\"Tool Name\": \"dsquery\",\n",
       "&nbsp;&nbsp;&nbsp;&nbsp;&nbsp;&nbsp;&nbsp;&nbsp;&nbsp;&nbsp;&nbsp;&nbsp;\"External ID\": \"S0105\"\n",
       "&nbsp;&nbsp;&nbsp;&nbsp;&nbsp;&nbsp;&nbsp;&nbsp;},\n",
       "&nbsp;&nbsp;&nbsp;&nbsp;&nbsp;&nbsp;&nbsp;&nbsp;{\n",
       "&nbsp;&nbsp;&nbsp;&nbsp;&nbsp;&nbsp;&nbsp;&nbsp;&nbsp;&nbsp;&nbsp;&nbsp;\"comment\": \"[PoshC2](S0378) can enumerate local and domain user account information.(Citation: GitHub PoshC2)\",\n",
       "&nbsp;&nbsp;&nbsp;&nbsp;&nbsp;&nbsp;&nbsp;&nbsp;&nbsp;&nbsp;&nbsp;&nbsp;\"Tool Name\": \"PoshC2\",\n",
       "&nbsp;&nbsp;&nbsp;&nbsp;&nbsp;&nbsp;&nbsp;&nbsp;&nbsp;&nbsp;&nbsp;&nbsp;\"External ID\": \"S0378\"\n",
       "&nbsp;&nbsp;&nbsp;&nbsp;&nbsp;&nbsp;&nbsp;&nbsp;},\n",
       "&nbsp;&nbsp;&nbsp;&nbsp;&nbsp;&nbsp;&nbsp;&nbsp;{\n",
       "&nbsp;&nbsp;&nbsp;&nbsp;&nbsp;&nbsp;&nbsp;&nbsp;&nbsp;&nbsp;&nbsp;&nbsp;\"comment\": \"[Brute Ratel C4](S1063) can use LDAP queries, `net group \\\"Domain Admins\\\" /domain` and `net user /domain` for discovery.(Citation: Palo Alto Brute Ratel July 2022)(Citation: Trend Micro Black Basta October 2022)\",\n",
       "&nbsp;&nbsp;&nbsp;&nbsp;&nbsp;&nbsp;&nbsp;&nbsp;&nbsp;&nbsp;&nbsp;&nbsp;\"Tool Name\": \"Brute Ratel C4\",\n",
       "&nbsp;&nbsp;&nbsp;&nbsp;&nbsp;&nbsp;&nbsp;&nbsp;&nbsp;&nbsp;&nbsp;&nbsp;\"External ID\": \"S1063\"\n",
       "&nbsp;&nbsp;&nbsp;&nbsp;&nbsp;&nbsp;&nbsp;&nbsp;},\n",
       "&nbsp;&nbsp;&nbsp;&nbsp;&nbsp;&nbsp;&nbsp;&nbsp;{\n",
       "&nbsp;&nbsp;&nbsp;&nbsp;&nbsp;&nbsp;&nbsp;&nbsp;&nbsp;&nbsp;&nbsp;&nbsp;\"comment\": \"[CrackMapExec](S0488) can enumerate the domain user accounts on a targeted system.(Citation: CME Github September 2018)\",\n",
       "&nbsp;&nbsp;&nbsp;&nbsp;&nbsp;&nbsp;&nbsp;&nbsp;&nbsp;&nbsp;&nbsp;&nbsp;\"Tool Name\": \"CrackMapExec\",\n",
       "&nbsp;&nbsp;&nbsp;&nbsp;&nbsp;&nbsp;&nbsp;&nbsp;&nbsp;&nbsp;&nbsp;&nbsp;\"External ID\": \"S0488\"\n",
       "&nbsp;&nbsp;&nbsp;&nbsp;&nbsp;&nbsp;&nbsp;&nbsp;},\n",
       "&nbsp;&nbsp;&nbsp;&nbsp;&nbsp;&nbsp;&nbsp;&nbsp;{\n",
       "&nbsp;&nbsp;&nbsp;&nbsp;&nbsp;&nbsp;&nbsp;&nbsp;&nbsp;&nbsp;&nbsp;&nbsp;\"comment\": \"[AdFind](S0552) can enumerate domain users.(Citation: Red Canary Hospital Thwarted Ryuk October 2020)(Citation: FireEye FIN6 Apr 2019)(Citation: FireEye Ryuk and Trickbot January 2019)(Citation: Cybereason Bumblebee August 2022)(Citation: Symantec Bumblebee June 2022)\",\n",
       "&nbsp;&nbsp;&nbsp;&nbsp;&nbsp;&nbsp;&nbsp;&nbsp;&nbsp;&nbsp;&nbsp;&nbsp;\"Tool Name\": \"AdFind\",\n",
       "&nbsp;&nbsp;&nbsp;&nbsp;&nbsp;&nbsp;&nbsp;&nbsp;&nbsp;&nbsp;&nbsp;&nbsp;\"External ID\": \"S0552\"\n",
       "&nbsp;&nbsp;&nbsp;&nbsp;&nbsp;&nbsp;&nbsp;&nbsp;},\n",
       "&nbsp;&nbsp;&nbsp;&nbsp;&nbsp;&nbsp;&nbsp;&nbsp;{\n",
       "&nbsp;&nbsp;&nbsp;&nbsp;&nbsp;&nbsp;&nbsp;&nbsp;&nbsp;&nbsp;&nbsp;&nbsp;\"comment\": \"[Cobalt Strike](S0154) can determine if the user on an infected machine is in the admin or domain admin group.(Citation: Cyberreason Anchor December 2019)\",\n",
       "&nbsp;&nbsp;&nbsp;&nbsp;&nbsp;&nbsp;&nbsp;&nbsp;&nbsp;&nbsp;&nbsp;&nbsp;\"Tool Name\": \"Cobalt Strike\",\n",
       "&nbsp;&nbsp;&nbsp;&nbsp;&nbsp;&nbsp;&nbsp;&nbsp;&nbsp;&nbsp;&nbsp;&nbsp;\"External ID\": \"S0154\"\n",
       "&nbsp;&nbsp;&nbsp;&nbsp;&nbsp;&nbsp;&nbsp;&nbsp;}\n",
       "&nbsp;&nbsp;&nbsp;&nbsp;],\n",
       "&nbsp;&nbsp;&nbsp;&nbsp;\"related_intrusion_sets\": [\n",
       "&nbsp;&nbsp;&nbsp;&nbsp;&nbsp;&nbsp;&nbsp;&nbsp;{\n",
       "&nbsp;&nbsp;&nbsp;&nbsp;&nbsp;&nbsp;&nbsp;&nbsp;&nbsp;&nbsp;&nbsp;&nbsp;\"comment\": \"[Volt Typhoon](G1017) has run `net group /dom` and `net group \\\"Domain Admins\\\" /dom` in compromised environments for account discovery.(Citation: Joint Cybersecurity Advisory Volt Typhoon June 2023)(Citation: Secureworks BRONZE SILHOUETTE May 2023)\",\n",
       "&nbsp;&nbsp;&nbsp;&nbsp;&nbsp;&nbsp;&nbsp;&nbsp;&nbsp;&nbsp;&nbsp;&nbsp;\"Intrusion Set Name\": \"Volt Typhoon\",\n",
       "&nbsp;&nbsp;&nbsp;&nbsp;&nbsp;&nbsp;&nbsp;&nbsp;&nbsp;&nbsp;&nbsp;&nbsp;\"External ID\": \"G1017\"\n",
       "&nbsp;&nbsp;&nbsp;&nbsp;&nbsp;&nbsp;&nbsp;&nbsp;},\n",
       "&nbsp;&nbsp;&nbsp;&nbsp;&nbsp;&nbsp;&nbsp;&nbsp;{\n",
       "&nbsp;&nbsp;&nbsp;&nbsp;&nbsp;&nbsp;&nbsp;&nbsp;&nbsp;&nbsp;&nbsp;&nbsp;\"comment\": \"[APT41](G0096) used built-in net commands to enumerate domain administrator users.(Citation: Rostovcev APT41 2021)\",\n",
       "&nbsp;&nbsp;&nbsp;&nbsp;&nbsp;&nbsp;&nbsp;&nbsp;&nbsp;&nbsp;&nbsp;&nbsp;\"Intrusion Set Name\": \"APT41\",\n",
       "&nbsp;&nbsp;&nbsp;&nbsp;&nbsp;&nbsp;&nbsp;&nbsp;&nbsp;&nbsp;&nbsp;&nbsp;\"External ID\": \"G0096\"\n",
       "&nbsp;&nbsp;&nbsp;&nbsp;&nbsp;&nbsp;&nbsp;&nbsp;},\n",
       "&nbsp;&nbsp;&nbsp;&nbsp;&nbsp;&nbsp;&nbsp;&nbsp;{\n",
       "&nbsp;&nbsp;&nbsp;&nbsp;&nbsp;&nbsp;&nbsp;&nbsp;&nbsp;&nbsp;&nbsp;&nbsp;\"comment\": \"[Dragonfly](G0035) has used batch scripts to enumerate users on a victim domain controller.(Citation: US-CERT TA18-074A)\",\n",
       "&nbsp;&nbsp;&nbsp;&nbsp;&nbsp;&nbsp;&nbsp;&nbsp;&nbsp;&nbsp;&nbsp;&nbsp;\"Intrusion Set Name\": \"Dragonfly\",\n",
       "&nbsp;&nbsp;&nbsp;&nbsp;&nbsp;&nbsp;&nbsp;&nbsp;&nbsp;&nbsp;&nbsp;&nbsp;\"External ID\": \"G0035\"\n",
       "&nbsp;&nbsp;&nbsp;&nbsp;&nbsp;&nbsp;&nbsp;&nbsp;},\n",
       "&nbsp;&nbsp;&nbsp;&nbsp;&nbsp;&nbsp;&nbsp;&nbsp;{\n",
       "&nbsp;&nbsp;&nbsp;&nbsp;&nbsp;&nbsp;&nbsp;&nbsp;&nbsp;&nbsp;&nbsp;&nbsp;\"comment\": \"[menuPass](G0045) has used the Microsoft administration tool csvde.exe to export Active Directory data.(Citation: PWC Cloud Hopper Technical Annex April 2017)\",\n",
       "&nbsp;&nbsp;&nbsp;&nbsp;&nbsp;&nbsp;&nbsp;&nbsp;&nbsp;&nbsp;&nbsp;&nbsp;\"Intrusion Set Name\": \"menuPass\",\n",
       "&nbsp;&nbsp;&nbsp;&nbsp;&nbsp;&nbsp;&nbsp;&nbsp;&nbsp;&nbsp;&nbsp;&nbsp;\"External ID\": \"G0045\"\n",
       "&nbsp;&nbsp;&nbsp;&nbsp;&nbsp;&nbsp;&nbsp;&nbsp;},\n",
       "&nbsp;&nbsp;&nbsp;&nbsp;&nbsp;&nbsp;&nbsp;&nbsp;{\n",
       "&nbsp;&nbsp;&nbsp;&nbsp;&nbsp;&nbsp;&nbsp;&nbsp;&nbsp;&nbsp;&nbsp;&nbsp;\"comment\": \"[MuddyWater](G0069) has used cmd.exe net user /domain to enumerate domain users.(Citation: Trend Micro Muddy Water March 2021)\",\n",
       "&nbsp;&nbsp;&nbsp;&nbsp;&nbsp;&nbsp;&nbsp;&nbsp;&nbsp;&nbsp;&nbsp;&nbsp;\"Intrusion Set Name\": \"MuddyWater\",\n",
       "&nbsp;&nbsp;&nbsp;&nbsp;&nbsp;&nbsp;&nbsp;&nbsp;&nbsp;&nbsp;&nbsp;&nbsp;\"External ID\": \"G0069\"\n",
       "&nbsp;&nbsp;&nbsp;&nbsp;&nbsp;&nbsp;&nbsp;&nbsp;},\n",
       "&nbsp;&nbsp;&nbsp;&nbsp;&nbsp;&nbsp;&nbsp;&nbsp;{\n",
       "&nbsp;&nbsp;&nbsp;&nbsp;&nbsp;&nbsp;&nbsp;&nbsp;&nbsp;&nbsp;&nbsp;&nbsp;\"comment\": \"[FIN6](G0037) has used Metasploit\\u2019s [PsExec](S0029) NTDSGRAB module to obtain a copy of the victim's Active Directory database.(Citation: FireEye FIN6 April 2016)\",\n",
       "&nbsp;&nbsp;&nbsp;&nbsp;&nbsp;&nbsp;&nbsp;&nbsp;&nbsp;&nbsp;&nbsp;&nbsp;\"Intrusion Set Name\": \"FIN6\",\n",
       "&nbsp;&nbsp;&nbsp;&nbsp;&nbsp;&nbsp;&nbsp;&nbsp;&nbsp;&nbsp;&nbsp;&nbsp;\"External ID\": \"G0037\"\n",
       "&nbsp;&nbsp;&nbsp;&nbsp;&nbsp;&nbsp;&nbsp;&nbsp;},\n",
       "&nbsp;&nbsp;&nbsp;&nbsp;&nbsp;&nbsp;&nbsp;&nbsp;{\n",
       "&nbsp;&nbsp;&nbsp;&nbsp;&nbsp;&nbsp;&nbsp;&nbsp;&nbsp;&nbsp;&nbsp;&nbsp;\"comment\": \"[Sandworm Team](G0034) has used a tool to query Active Directory using LDAP, discovering information about usernames listed in AD.(Citation: ESET Telebots Dec 2016)\\t\",\n",
       "&nbsp;&nbsp;&nbsp;&nbsp;&nbsp;&nbsp;&nbsp;&nbsp;&nbsp;&nbsp;&nbsp;&nbsp;\"Intrusion Set Name\": \"Sandworm Team\",\n",
       "&nbsp;&nbsp;&nbsp;&nbsp;&nbsp;&nbsp;&nbsp;&nbsp;&nbsp;&nbsp;&nbsp;&nbsp;\"External ID\": \"G0034\"\n",
       "&nbsp;&nbsp;&nbsp;&nbsp;&nbsp;&nbsp;&nbsp;&nbsp;},\n",
       "&nbsp;&nbsp;&nbsp;&nbsp;&nbsp;&nbsp;&nbsp;&nbsp;{\n",
       "&nbsp;&nbsp;&nbsp;&nbsp;&nbsp;&nbsp;&nbsp;&nbsp;&nbsp;&nbsp;&nbsp;&nbsp;\"comment\": \"[Scattered Spider](G1015) leverages legitimate domain accounts to gain access to the target environment.(Citation: CISA Scattered Spider Advisory November 2023)(Citation: MSTIC Octo Tempest Operations October 2023)\",\n",
       "&nbsp;&nbsp;&nbsp;&nbsp;&nbsp;&nbsp;&nbsp;&nbsp;&nbsp;&nbsp;&nbsp;&nbsp;\"Intrusion Set Name\": \"Scattered Spider\",\n",
       "&nbsp;&nbsp;&nbsp;&nbsp;&nbsp;&nbsp;&nbsp;&nbsp;&nbsp;&nbsp;&nbsp;&nbsp;\"External ID\": \"G1015\"\n",
       "&nbsp;&nbsp;&nbsp;&nbsp;&nbsp;&nbsp;&nbsp;&nbsp;},\n",
       "&nbsp;&nbsp;&nbsp;&nbsp;&nbsp;&nbsp;&nbsp;&nbsp;{\n",
       "&nbsp;&nbsp;&nbsp;&nbsp;&nbsp;&nbsp;&nbsp;&nbsp;&nbsp;&nbsp;&nbsp;&nbsp;\"comment\": \"[OilRig](G0049) has run net user, net user /domain, net group \\u201cdomain admins\\u201d /domain, and net group \\u201cExchange Trusted Subsystem\\u201d /domain to get account listings on a victim.(Citation: Palo Alto OilRig May 2016)\",\n",
       "&nbsp;&nbsp;&nbsp;&nbsp;&nbsp;&nbsp;&nbsp;&nbsp;&nbsp;&nbsp;&nbsp;&nbsp;\"Intrusion Set Name\": \"OilRig\",\n",
       "&nbsp;&nbsp;&nbsp;&nbsp;&nbsp;&nbsp;&nbsp;&nbsp;&nbsp;&nbsp;&nbsp;&nbsp;\"External ID\": \"G0049\"\n",
       "&nbsp;&nbsp;&nbsp;&nbsp;&nbsp;&nbsp;&nbsp;&nbsp;},\n",
       "&nbsp;&nbsp;&nbsp;&nbsp;&nbsp;&nbsp;&nbsp;&nbsp;{\n",
       "&nbsp;&nbsp;&nbsp;&nbsp;&nbsp;&nbsp;&nbsp;&nbsp;&nbsp;&nbsp;&nbsp;&nbsp;\"comment\": \"[Ke3chang](G0004) performs account discovery using commands such as net localgroup administrators and net group \\\"REDACTED\\\" /domain on specific permissions groups.(Citation: Mandiant Operation Ke3chang November 2014)\",\n",
       "&nbsp;&nbsp;&nbsp;&nbsp;&nbsp;&nbsp;&nbsp;&nbsp;&nbsp;&nbsp;&nbsp;&nbsp;\"Intrusion Set Name\": \"Ke3chang\",\n",
       "&nbsp;&nbsp;&nbsp;&nbsp;&nbsp;&nbsp;&nbsp;&nbsp;&nbsp;&nbsp;&nbsp;&nbsp;\"External ID\": \"G0004\"\n",
       "&nbsp;&nbsp;&nbsp;&nbsp;&nbsp;&nbsp;&nbsp;&nbsp;},\n",
       "&nbsp;&nbsp;&nbsp;&nbsp;&nbsp;&nbsp;&nbsp;&nbsp;{\n",
       "&nbsp;&nbsp;&nbsp;&nbsp;&nbsp;&nbsp;&nbsp;&nbsp;&nbsp;&nbsp;&nbsp;&nbsp;\"comment\": \"[Turla](G0010) has used net user /domain to enumerate domain accounts.(Citation: ESET ComRAT May 2020)\",\n",
       "&nbsp;&nbsp;&nbsp;&nbsp;&nbsp;&nbsp;&nbsp;&nbsp;&nbsp;&nbsp;&nbsp;&nbsp;\"Intrusion Set Name\": \"Turla\",\n",
       "&nbsp;&nbsp;&nbsp;&nbsp;&nbsp;&nbsp;&nbsp;&nbsp;&nbsp;&nbsp;&nbsp;&nbsp;\"External ID\": \"G0010\"\n",
       "&nbsp;&nbsp;&nbsp;&nbsp;&nbsp;&nbsp;&nbsp;&nbsp;},\n",
       "&nbsp;&nbsp;&nbsp;&nbsp;&nbsp;&nbsp;&nbsp;&nbsp;{\n",
       "&nbsp;&nbsp;&nbsp;&nbsp;&nbsp;&nbsp;&nbsp;&nbsp;&nbsp;&nbsp;&nbsp;&nbsp;\"comment\": \"[Poseidon Group](G0033) searches for administrator accounts on both the local victim machine and the network.(Citation: Kaspersky Poseidon Group)\",\n",
       "&nbsp;&nbsp;&nbsp;&nbsp;&nbsp;&nbsp;&nbsp;&nbsp;&nbsp;&nbsp;&nbsp;&nbsp;\"Intrusion Set Name\": \"Poseidon Group\",\n",
       "&nbsp;&nbsp;&nbsp;&nbsp;&nbsp;&nbsp;&nbsp;&nbsp;&nbsp;&nbsp;&nbsp;&nbsp;\"External ID\": \"G0033\"\n",
       "&nbsp;&nbsp;&nbsp;&nbsp;&nbsp;&nbsp;&nbsp;&nbsp;},\n",
       "&nbsp;&nbsp;&nbsp;&nbsp;&nbsp;&nbsp;&nbsp;&nbsp;{\n",
       "&nbsp;&nbsp;&nbsp;&nbsp;&nbsp;&nbsp;&nbsp;&nbsp;&nbsp;&nbsp;&nbsp;&nbsp;\"comment\": \"During the [SolarWinds Compromise](C0024), [APT29](G0016) used PowerShell to discover domain accounts by exectuing `Get-ADUser` and `Get-ADGroupMember`.(Citation: CrowdStrike StellarParticle January 2022)(Citation: Secureworks IRON RITUAL Profile)\",\n",
       "&nbsp;&nbsp;&nbsp;&nbsp;&nbsp;&nbsp;&nbsp;&nbsp;&nbsp;&nbsp;&nbsp;&nbsp;\"Intrusion Set Name\": \"APT29\",\n",
       "&nbsp;&nbsp;&nbsp;&nbsp;&nbsp;&nbsp;&nbsp;&nbsp;&nbsp;&nbsp;&nbsp;&nbsp;\"External ID\": \"G0016\"\n",
       "&nbsp;&nbsp;&nbsp;&nbsp;&nbsp;&nbsp;&nbsp;&nbsp;},\n",
       "&nbsp;&nbsp;&nbsp;&nbsp;&nbsp;&nbsp;&nbsp;&nbsp;{\n",
       "&nbsp;&nbsp;&nbsp;&nbsp;&nbsp;&nbsp;&nbsp;&nbsp;&nbsp;&nbsp;&nbsp;&nbsp;\"comment\": \"[Chimera](G0114) has has used net user /dom and net user Administrator to enumerate domain accounts including administrator accounts.(Citation: Cycraft Chimera April 2020)(Citation: NCC Group Chimera January 2021)\",\n",
       "&nbsp;&nbsp;&nbsp;&nbsp;&nbsp;&nbsp;&nbsp;&nbsp;&nbsp;&nbsp;&nbsp;&nbsp;\"Intrusion Set Name\": \"Chimera\",\n",
       "&nbsp;&nbsp;&nbsp;&nbsp;&nbsp;&nbsp;&nbsp;&nbsp;&nbsp;&nbsp;&nbsp;&nbsp;\"External ID\": \"G0114\"\n",
       "&nbsp;&nbsp;&nbsp;&nbsp;&nbsp;&nbsp;&nbsp;&nbsp;},\n",
       "&nbsp;&nbsp;&nbsp;&nbsp;&nbsp;&nbsp;&nbsp;&nbsp;{\n",
       "&nbsp;&nbsp;&nbsp;&nbsp;&nbsp;&nbsp;&nbsp;&nbsp;&nbsp;&nbsp;&nbsp;&nbsp;\"comment\": \"[BRONZE BUTLER](G0060) has used net user /domain to identify account information.(Citation: Secureworks BRONZE BUTLER Oct 2017)\",\n",
       "&nbsp;&nbsp;&nbsp;&nbsp;&nbsp;&nbsp;&nbsp;&nbsp;&nbsp;&nbsp;&nbsp;&nbsp;\"Intrusion Set Name\": \"BRONZE BUTLER\",\n",
       "&nbsp;&nbsp;&nbsp;&nbsp;&nbsp;&nbsp;&nbsp;&nbsp;&nbsp;&nbsp;&nbsp;&nbsp;\"External ID\": \"G0060\"\n",
       "&nbsp;&nbsp;&nbsp;&nbsp;&nbsp;&nbsp;&nbsp;&nbsp;},\n",
       "&nbsp;&nbsp;&nbsp;&nbsp;&nbsp;&nbsp;&nbsp;&nbsp;{\n",
       "&nbsp;&nbsp;&nbsp;&nbsp;&nbsp;&nbsp;&nbsp;&nbsp;&nbsp;&nbsp;&nbsp;&nbsp;\"comment\": \"[ToddyCat](G1022) has run `net user %USER% /dom` for account discovery.(Citation: Kaspersky ToddyCat Check Logs October 2023)\\n\",\n",
       "&nbsp;&nbsp;&nbsp;&nbsp;&nbsp;&nbsp;&nbsp;&nbsp;&nbsp;&nbsp;&nbsp;&nbsp;\"Intrusion Set Name\": \"ToddyCat\",\n",
       "&nbsp;&nbsp;&nbsp;&nbsp;&nbsp;&nbsp;&nbsp;&nbsp;&nbsp;&nbsp;&nbsp;&nbsp;\"External ID\": \"G1022\"\n",
       "&nbsp;&nbsp;&nbsp;&nbsp;&nbsp;&nbsp;&nbsp;&nbsp;},\n",
       "&nbsp;&nbsp;&nbsp;&nbsp;&nbsp;&nbsp;&nbsp;&nbsp;{\n",
       "&nbsp;&nbsp;&nbsp;&nbsp;&nbsp;&nbsp;&nbsp;&nbsp;&nbsp;&nbsp;&nbsp;&nbsp;\"comment\": \"[Fox Kitten](G0117) has used the Softerra LDAP browser to browse documentation on service accounts.(Citation: CISA AA20-259A Iran-Based Actor September 2020)\",\n",
       "&nbsp;&nbsp;&nbsp;&nbsp;&nbsp;&nbsp;&nbsp;&nbsp;&nbsp;&nbsp;&nbsp;&nbsp;\"Intrusion Set Name\": \"Fox Kitten\",\n",
       "&nbsp;&nbsp;&nbsp;&nbsp;&nbsp;&nbsp;&nbsp;&nbsp;&nbsp;&nbsp;&nbsp;&nbsp;\"External ID\": \"G0117\"\n",
       "&nbsp;&nbsp;&nbsp;&nbsp;&nbsp;&nbsp;&nbsp;&nbsp;},\n",
       "&nbsp;&nbsp;&nbsp;&nbsp;&nbsp;&nbsp;&nbsp;&nbsp;{\n",
       "&nbsp;&nbsp;&nbsp;&nbsp;&nbsp;&nbsp;&nbsp;&nbsp;&nbsp;&nbsp;&nbsp;&nbsp;\"comment\": \"During [Operation Dream Job](C0022), [Lazarus Group](G0032) queried compromised victim's active directory servers to obtain the list of employees including administrator accounts.(Citation: ESET Lazarus Jun 2020)\",\n",
       "&nbsp;&nbsp;&nbsp;&nbsp;&nbsp;&nbsp;&nbsp;&nbsp;&nbsp;&nbsp;&nbsp;&nbsp;\"Intrusion Set Name\": \"Lazarus Group\",\n",
       "&nbsp;&nbsp;&nbsp;&nbsp;&nbsp;&nbsp;&nbsp;&nbsp;&nbsp;&nbsp;&nbsp;&nbsp;\"External ID\": \"G0032\"\n",
       "&nbsp;&nbsp;&nbsp;&nbsp;&nbsp;&nbsp;&nbsp;&nbsp;},\n",
       "&nbsp;&nbsp;&nbsp;&nbsp;&nbsp;&nbsp;&nbsp;&nbsp;{\n",
       "&nbsp;&nbsp;&nbsp;&nbsp;&nbsp;&nbsp;&nbsp;&nbsp;&nbsp;&nbsp;&nbsp;&nbsp;\"comment\": \"[LAPSUS$](G1004) has used the AD Explorer tool to enumerate users on a victim's network.(Citation: MSTIC DEV-0537 Mar 2022)(Citation: NCC Group LAPSUS Apr 2022)\",\n",
       "&nbsp;&nbsp;&nbsp;&nbsp;&nbsp;&nbsp;&nbsp;&nbsp;&nbsp;&nbsp;&nbsp;&nbsp;\"Intrusion Set Name\": \"LAPSUS$\",\n",
       "&nbsp;&nbsp;&nbsp;&nbsp;&nbsp;&nbsp;&nbsp;&nbsp;&nbsp;&nbsp;&nbsp;&nbsp;\"External ID\": \"G1004\"\n",
       "&nbsp;&nbsp;&nbsp;&nbsp;&nbsp;&nbsp;&nbsp;&nbsp;},\n",
       "&nbsp;&nbsp;&nbsp;&nbsp;&nbsp;&nbsp;&nbsp;&nbsp;{\n",
       "&nbsp;&nbsp;&nbsp;&nbsp;&nbsp;&nbsp;&nbsp;&nbsp;&nbsp;&nbsp;&nbsp;&nbsp;\"comment\": \"[Wizard Spider](G0102) has identified domain admins through the use of `net group \\\"Domain admins\\\" /DOMAIN`. [Wizard Spider](G0102) has also leveraged the PowerShell cmdlet `Get-ADComputer` to collect account names from Active Directory data.(Citation: DFIR Ryuk's Return October 2020)(Citation: Mandiant FIN12 Oct 2021)\",\n",
       "&nbsp;&nbsp;&nbsp;&nbsp;&nbsp;&nbsp;&nbsp;&nbsp;&nbsp;&nbsp;&nbsp;&nbsp;\"Intrusion Set Name\": \"Wizard Spider\",\n",
       "&nbsp;&nbsp;&nbsp;&nbsp;&nbsp;&nbsp;&nbsp;&nbsp;&nbsp;&nbsp;&nbsp;&nbsp;\"External ID\": \"G0102\"\n",
       "&nbsp;&nbsp;&nbsp;&nbsp;&nbsp;&nbsp;&nbsp;&nbsp;},\n",
       "&nbsp;&nbsp;&nbsp;&nbsp;&nbsp;&nbsp;&nbsp;&nbsp;{\n",
       "&nbsp;&nbsp;&nbsp;&nbsp;&nbsp;&nbsp;&nbsp;&nbsp;&nbsp;&nbsp;&nbsp;&nbsp;\"comment\": \"[FIN13](G1016) can identify user accounts associated with a Service Principal Name and query Service Principal Names within the domain by utilizing the following scripts: `GetUserSPNs.vbs` and `querySpn.vbs`.(Citation: Mandiant FIN13 Aug 2022)(Citation: Sygnia Elephant Beetle Jan 2022)\",\n",
       "&nbsp;&nbsp;&nbsp;&nbsp;&nbsp;&nbsp;&nbsp;&nbsp;&nbsp;&nbsp;&nbsp;&nbsp;\"Intrusion Set Name\": \"FIN13\",\n",
       "&nbsp;&nbsp;&nbsp;&nbsp;&nbsp;&nbsp;&nbsp;&nbsp;&nbsp;&nbsp;&nbsp;&nbsp;\"External ID\": \"G1016\"\n",
       "&nbsp;&nbsp;&nbsp;&nbsp;&nbsp;&nbsp;&nbsp;&nbsp;}\n",
       "&nbsp;&nbsp;&nbsp;&nbsp;],\n",
       "&nbsp;&nbsp;&nbsp;&nbsp;\"related_campaigns\": [\n",
       "&nbsp;&nbsp;&nbsp;&nbsp;&nbsp;&nbsp;&nbsp;&nbsp;{\n",
       "&nbsp;&nbsp;&nbsp;&nbsp;&nbsp;&nbsp;&nbsp;&nbsp;&nbsp;&nbsp;&nbsp;&nbsp;\"comment\": \"During [Operation Dream Job](C0022), [Lazarus Group](G0032) queried compromised victim's active directory servers to obtain the list of employees including administrator accounts.(Citation: ESET Lazarus Jun 2020)\",\n",
       "&nbsp;&nbsp;&nbsp;&nbsp;&nbsp;&nbsp;&nbsp;&nbsp;&nbsp;&nbsp;&nbsp;&nbsp;\"Campaign Name\": \"Operation Dream Job\",\n",
       "&nbsp;&nbsp;&nbsp;&nbsp;&nbsp;&nbsp;&nbsp;&nbsp;&nbsp;&nbsp;&nbsp;&nbsp;\"External ID\": \"C0022\"\n",
       "&nbsp;&nbsp;&nbsp;&nbsp;&nbsp;&nbsp;&nbsp;&nbsp;},\n",
       "&nbsp;&nbsp;&nbsp;&nbsp;&nbsp;&nbsp;&nbsp;&nbsp;{\n",
       "&nbsp;&nbsp;&nbsp;&nbsp;&nbsp;&nbsp;&nbsp;&nbsp;&nbsp;&nbsp;&nbsp;&nbsp;\"comment\": \"During the [SolarWinds Compromise](C0024), [APT29](G0016) used PowerShell to discover domain accounts by exectuing `Get-ADUser` and `Get-ADGroupMember`.(Citation: CrowdStrike StellarParticle January 2022)(Citation: Secureworks IRON RITUAL Profile)\",\n",
       "&nbsp;&nbsp;&nbsp;&nbsp;&nbsp;&nbsp;&nbsp;&nbsp;&nbsp;&nbsp;&nbsp;&nbsp;\"Campaign Name\": \"SolarWinds Compromise\",\n",
       "&nbsp;&nbsp;&nbsp;&nbsp;&nbsp;&nbsp;&nbsp;&nbsp;&nbsp;&nbsp;&nbsp;&nbsp;\"External ID\": \"C0024\"\n",
       "&nbsp;&nbsp;&nbsp;&nbsp;&nbsp;&nbsp;&nbsp;&nbsp;},\n",
       "&nbsp;&nbsp;&nbsp;&nbsp;&nbsp;&nbsp;&nbsp;&nbsp;{\n",
       "&nbsp;&nbsp;&nbsp;&nbsp;&nbsp;&nbsp;&nbsp;&nbsp;&nbsp;&nbsp;&nbsp;&nbsp;\"comment\": \"During [Operation CuckooBees](C0012), the threat actors used the `dsquery` and `dsget` commands to get domain environment information and to query users in administrative groups.(Citation: Cybereason OperationCuckooBees May 2022)\",\n",
       "&nbsp;&nbsp;&nbsp;&nbsp;&nbsp;&nbsp;&nbsp;&nbsp;&nbsp;&nbsp;&nbsp;&nbsp;\"Campaign Name\": \"Operation CuckooBees\",\n",
       "&nbsp;&nbsp;&nbsp;&nbsp;&nbsp;&nbsp;&nbsp;&nbsp;&nbsp;&nbsp;&nbsp;&nbsp;\"External ID\": \"C0012\"\n",
       "&nbsp;&nbsp;&nbsp;&nbsp;&nbsp;&nbsp;&nbsp;&nbsp;},\n",
       "&nbsp;&nbsp;&nbsp;&nbsp;&nbsp;&nbsp;&nbsp;&nbsp;{\n",
       "&nbsp;&nbsp;&nbsp;&nbsp;&nbsp;&nbsp;&nbsp;&nbsp;&nbsp;&nbsp;&nbsp;&nbsp;\"comment\": \"During [Operation Wocao](C0014), threat actors used the `net` command to retrieve information about domain accounts.(Citation: FoxIT Wocao December 2019) \",\n",
       "&nbsp;&nbsp;&nbsp;&nbsp;&nbsp;&nbsp;&nbsp;&nbsp;&nbsp;&nbsp;&nbsp;&nbsp;\"Campaign Name\": \"Operation Wocao\",\n",
       "&nbsp;&nbsp;&nbsp;&nbsp;&nbsp;&nbsp;&nbsp;&nbsp;&nbsp;&nbsp;&nbsp;&nbsp;\"External ID\": \"C0014\"\n",
       "&nbsp;&nbsp;&nbsp;&nbsp;&nbsp;&nbsp;&nbsp;&nbsp;}\n",
       "&nbsp;&nbsp;&nbsp;&nbsp;],\n",
       "&nbsp;&nbsp;&nbsp;&nbsp;\"mitigations\": [\n",
       "&nbsp;&nbsp;&nbsp;&nbsp;&nbsp;&nbsp;&nbsp;&nbsp;{\n",
       "&nbsp;&nbsp;&nbsp;&nbsp;&nbsp;&nbsp;&nbsp;&nbsp;&nbsp;&nbsp;&nbsp;&nbsp;\"Course of Action Name\": \"Operating System Configuration\",\n",
       "&nbsp;&nbsp;&nbsp;&nbsp;&nbsp;&nbsp;&nbsp;&nbsp;&nbsp;&nbsp;&nbsp;&nbsp;\"Description\": \"Make configuration changes related to the operating system or a common feature of the operating system that result in system hardening against techniques.\",\n",
       "&nbsp;&nbsp;&nbsp;&nbsp;&nbsp;&nbsp;&nbsp;&nbsp;&nbsp;&nbsp;&nbsp;&nbsp;\"Comment\": \"Prevent administrator accounts from being enumerated when an application is elevating through UAC since it can lead to the disclosure of account names. The Registry key is located at HKLM\\\\ SOFTWARE\\\\Microsoft\\\\Windows\\\\CurrentVersion\\\\Policies\\\\CredUI\\\\EnumerateAdministrators. It can be disabled through GPO: Computer Configuration &gt; [Policies] &gt; Administrative Templates &gt; Windows Components &gt; Credential User Interface: Enumerate administrator accounts on elevation.(Citation: UCF STIG Elevation Account Enumeration)\",\n",
       "&nbsp;&nbsp;&nbsp;&nbsp;&nbsp;&nbsp;&nbsp;&nbsp;&nbsp;&nbsp;&nbsp;&nbsp;\"External ID\": \"M1028\"\n",
       "&nbsp;&nbsp;&nbsp;&nbsp;&nbsp;&nbsp;&nbsp;&nbsp;}\n",
       "&nbsp;&nbsp;&nbsp;&nbsp;]\n",
       "}</pre>"
      ],
      "text/plain": [
       "<IPython.core.display.HTML object>"
      ]
     },
     "metadata": {},
     "output_type": "display_data"
    }
   ],
   "source": [
    "def format_json(data, indent=4):\n",
    "    \"\"\"Format JSON data with indentation and syntax highlighting\"\"\"\n",
    "    formatted_json = json.dumps(data, indent=indent)\n",
    "    formatted_json = formatted_json.replace(\"  \", \"&nbsp;&nbsp;\")\n",
    "    return f\"<pre style='font-size: 12px;padding: 10px; border: 1px solid #ddd;'>{formatted_json}</pre>\"\n",
    "\n",
    "# Get the first object (assuming the JSON is a list of objects)\n",
    "first_object = data[120] if isinstance(data, list) and len(data) > 0 else data\n",
    "\n",
    "# Print the formatted JSON\n",
    "formatted_json = format_json(first_object)\n",
    "print(\"exemple of technique data scrapped :\")\n",
    "display(HTML(formatted_json))"
   ]
  },
  {
   "cell_type": "markdown",
   "metadata": {},
   "source": [
    "### 2.4. CAPEC Data \n"
   ]
  },
  {
   "cell_type": "markdown",
   "metadata": {},
   "source": [
    "\n",
    "#### 2.4.1. Description\n",
    "The Common Attack Pattern Enumeration and Classification (CAPEC) dataset categorizes attack patterns to help understand the nature of attacks. The dataset includes the following columns:\n",
    "- **ID**: The unique identifier for the attack pattern.\n",
    "- **Name**: The name of the attack pattern.\n",
    "- **Abstraction**: The level of abstraction (e.g., meta, detailed).\n",
    "- **Status**: The current status (e.g., draft, stable).\n",
    "- **Description**: A description of the attack pattern.\n",
    "- **Alternate Terms**: Other terms used to describe the attack pattern.\n",
    "- **Likelihood Of Attack**: The likelihood of this attack pattern being used.\n",
    "- **Typical Severity**: The typical severity of attacks using this pattern.\n",
    "- **Related Attack Patterns**: Attack patterns related to this one.\n",
    "- **Execution Flow**: Steps or procedures to execute the attack.\n",
    "- **Prerequisites**: Conditions that must be met for the attack to be successful.\n",
    "- **Skills Required**: Skills needed to execute the attack.\n",
    "- **Resources Required**: Resources required for the attack.\n",
    "- **Indicators**: Signs that the attack is happening or has happened.\n",
    "- **Consequences**: Possible consequences of the attack.\n",
    "- **Mitigations**: Steps that can be taken to mitigate the attack.\n",
    "- **Example Instances**: Examples of real-world instances where the attack has been used.\n",
    "- **Related Weaknesses**: Weaknesses associated with the attack pattern.\n",
    "- **Taxonomy Mappings**: How the attack pattern maps to other taxonomies.\n",
    "- **Notes**: Additional notes.\n",
    "\n",
    "#### 2.4.2. Data Source\n",
    "- **Source**: [CAPEC - MITRE](https://capec.mitre.org)\n",
    "\n",
    "#### 2.4.3. Scraping Technique\n",
    "- **Tools**: Direct download in CSV format from the official website.\n",
    "- **Process**:\n",
    "  1. Access the CAPEC website and download the CSV file containing the attack pattern data.\n",
    "  2. Load the CSV file into a data processing environment (e.g., Pandas in Python).\n",
    "  3. Perform any necessary data cleaning or restructuring to ensure consistency with the other datasets.\n",
    "  4. Store the processed data for further use in model fine-tuning."
   ]
  },
  {
   "cell_type": "code",
   "execution_count": 2,
   "metadata": {},
   "outputs": [],
   "source": [
    "import pandas as pd\n",
    "capec = pd.read_csv(\"Data\\CAPEC.csv\")"
   ]
  },
  {
   "cell_type": "markdown",
   "metadata": {},
   "source": [
    "#### 2.4.4 Summarize data scraped"
   ]
  },
  {
   "cell_type": "markdown",
   "metadata": {},
   "source": [
    "#### 2.3.4.1 Row exemple "
   ]
  },
  {
   "cell_type": "code",
   "execution_count": 5,
   "metadata": {},
   "outputs": [
    {
     "data": {
      "text/html": [
       "<table border=\"1\" class=\"dataframe\">\n",
       "  <thead>\n",
       "    <tr style=\"text-align: right;\">\n",
       "      <th>ID</th>\n",
       "      <th>Name</th>\n",
       "      <th>Abstraction</th>\n",
       "      <th>Status</th>\n",
       "      <th>Description</th>\n",
       "      <th>Alternate Terms</th>\n",
       "      <th>Likelihood Of Attack</th>\n",
       "      <th>Typical Severity</th>\n",
       "      <th>Related Attack Patterns</th>\n",
       "      <th>Execution Flow</th>\n",
       "      <th>Prerequisites</th>\n",
       "      <th>Skills Required</th>\n",
       "      <th>Resources Required</th>\n",
       "      <th>Indicators</th>\n",
       "      <th>Consequences</th>\n",
       "      <th>Mitigations</th>\n",
       "      <th>Example Instances</th>\n",
       "      <th>Related Weaknesses</th>\n",
       "      <th>Taxonomy Mappings</th>\n",
       "      <th>Notes</th>\n",
       "    </tr>\n",
       "  </thead>\n",
       "  <tbody>\n",
       "    <tr>\n",
       "      <td>Accessing Functionality Not Properly Constrained by ACLs</td>\n",
       "      <td>Standard</td>\n",
       "      <td>Draft</td>\n",
       "      <td>In applications, particularly web applications, access to functionality is mitigated by an authorization framework. This framework maps Access Control Lists (ACLs) to elements of the application's functionality; particularly URL's for web apps. In the case that the administrator failed to specify an ACL for a particular element, an attacker may be able to access it with impunity. An attacker with the ability to access functionality not properly constrained by ACLs can obtain sensitive information and possibly compromise the entire application. Such an attacker can access resources that must be available only to users at a higher privilege level, can access management sections of the application, or can run queries for data that they otherwise not supposed to.</td>\n",
       "      <td>NaN</td>\n",
       "      <td>High</td>\n",
       "      <td>High</td>\n",
       "      <td>::NATURE:ChildOf:CAPEC ID:122::NATURE:CanPrecede:CAPEC ID:17::</td>\n",
       "      <td>::STEP:1:PHASE:Explore:DESCRIPTION:[Survey] The attacker surveys the target application, possibly as a valid and authenticated user:TECHNIQUE:Spidering web sites for all available links:TECHNIQUE:Brute force guessing of resource names:TECHNIQUE:Brute force guessing of user names / credentials:TECHNIQUE:Brute force guessing of function names / actions::STEP:2:PHASE:Explore:DESCRIPTION:[Identify Functionality] At each step, the attacker notes the resource or functionality access mechanism invoked upon performing specific actions:TECHNIQUE:Use the web inventory of all forms and inputs and apply attack data to those inputs.:TECHNIQUE:Use a packet sniffer to capture and record network traffic:TECHNIQUE:Execute the software in a debugger and record API calls into the operating system or important libraries. This might occur in an environment other than a production environment, in order to find weaknesses that can be exploited in a production environment.::STEP:3:PHASE:Experiment:DESCRIPTION:[Iterate over access capabilities] Possibly as a valid user, the attacker then tries to access each of the noted access mechanisms directly in order to perform functions not constrained by the ACLs.:TECHNIQUE:Fuzzing of API parameters (URL parameters, OS API parameters, protocol parameters)::</td>\n",
       "      <td>::The application must be navigable in a manner that associates elements (subsections) of the application with ACLs.::The various resources, or individual URLs, must be somehow discoverable by the attacker::The administrator must have forgotten to associate an ACL or has associated an inappropriately permissive ACL with a particular navigable resource.::</td>\n",
       "      <td>::SKILL:In order to discover unrestricted resources, the attacker does not need special tools or skills. They only have to observe the resources or access mechanisms invoked as each action is performed and then try and access those access mechanisms directly.:LEVEL:Low::</td>\n",
       "      <td>::None: No specialized resources are required to execute this type of attack.::</td>\n",
       "      <td>NaN</td>\n",
       "      <td>::SCOPE:Confidentiality:SCOPE:Access Control:SCOPE:Authorization:TECHNICAL IMPACT:Gain Privileges::</td>\n",
       "      <td>::In a J2EE setting, administrators can associate a role that is impossible for the authenticator to grant users, such as NoAccess, with all Servlets to which access is guarded by a limited number of servlets visible to, and accessible by, the user. Having done so, any direct access to those protected Servlets will be prohibited by the web container. In a more general setting, the administrator must mark every resource besides the ones supposed to be exposed to the user as accessible by a role impossible for the user to assume. The default security setting must be to deny access and then grant access only to those resources intended by business logic.::</td>\n",
       "      <td>::Implementing the Model-View-Controller (MVC) within Java EE's Servlet paradigm using a Single front controller pattern that demands that brokered HTTP requests be authenticated before hand-offs to other Action Servlets. If no security-constraint is placed on those Action Servlets, such that positively no one can access them, the front controller can be subverted.::</td>\n",
       "      <td>::276::285::434::693::732::1191::1193::1220::1297::1311::1314::1315::1318::1320::1321::1327::</td>\n",
       "      <td>TAXONOMY NAME:ATTACK:ENTRY ID:1574.010:ENTRY NAME:Hijack Execution Flow: ServicesFile Permissions Weakness::</td>\n",
       "      <td>NaN</td>\n",
       "      <td>NaN</td>\n",
       "    </tr>\n",
       "  </tbody>\n",
       "</table>"
      ],
      "text/plain": [
       "<IPython.core.display.HTML object>"
      ]
     },
     "metadata": {},
     "output_type": "display_data"
    }
   ],
   "source": [
    "from IPython.display import HTML\n",
    "html_table = capec.head(1).to_html(index=False)\n",
    "display(HTML(html_table))"
   ]
  },
  {
   "cell_type": "markdown",
   "metadata": {},
   "source": [
    "#### 2.3.4.2 Stats"
   ]
  },
  {
   "cell_type": "code",
   "execution_count": 7,
   "metadata": {},
   "outputs": [
    {
     "data": {
      "text/html": [
       "<table>\n",
       "<thead>\n",
       "<tr><th style=\"text-align: center;\">    Metric     </th><th style=\"text-align: right;\">  Value</th></tr>\n",
       "</thead>\n",
       "<tbody>\n",
       "<tr><td style=\"text-align: center;\">Distinct CAPECs</td><td style=\"text-align: right;\">    559</td></tr>\n",
       "</tbody>\n",
       "</table>"
      ],
      "text/plain": [
       "<IPython.core.display.HTML object>"
      ]
     },
     "metadata": {},
     "output_type": "display_data"
    }
   ],
   "source": [
    "import pandas as pd\n",
    "from tabulate import tabulate\n",
    "\n",
    "# Number of distinct CVE_ID values\n",
    "distinct_CAPEC_count = len(capec)\n",
    "\n",
    "# Prepare the data for tabulate\n",
    "table_data = [['Distinct CAPECs', distinct_CAPEC_count]]\n",
    "\n",
    "# Convert to HTML using tabulate\n",
    "html_table = tabulate(table_data, headers=['Metric', 'Value'], tablefmt='html', stralign='center')\n",
    "\n",
    "# Display the HTML table\n",
    "display(HTML(html_table))"
   ]
  },
  {
   "cell_type": "markdown",
   "metadata": {},
   "source": [
    "### 2.5. Reports Data "
   ]
  },
  {
   "cell_type": "markdown",
   "metadata": {},
   "source": [
    "\n",
    "\n",
    "#### 2.5.1. Description\n",
    "The reports dataset contains detailed threat or attack reports that explain the techniques used and Indicators of Compromise (IOCs) associated with specific cyber incidents. In these reports, the name of the group actor responsible for the attack is anonymized and replaced with a placeholder `[PLACEHOLDER]`. The dataset includes the following columns:\n",
    "- **Report**: The full text of the report, with the actor's name hidden by `[PLACEHOLDER]`.\n",
    "- **Group Actor Name**: The name of the group responsible for the attack, which will be used to replace the placeholder.\n",
    "\n",
    "#### 2.5.2. Data Source\n",
    "- **Source**: Various cybersecurity websites, blogs, and reports from reputable cybersecurity firms and organizations.\n",
    "\n",
    "\n"
   ]
  },
  {
   "cell_type": "markdown",
   "metadata": {},
   "source": [
    "#### 2.5.3. Scraping Technique\n",
    "- **Tools**: `Selenium`, `Google Genimi`\n",
    "- **Process**:\n",
    "  1. **Get List of Actors**: Extract a list of attackers (cyber threat actors) registered in MITRE ATT&CK to use as a reference for identifying relevant reports.\n",
    "  2. **Identify Sources**: Use `Selenium` to extract URLs of relevant reports from Google News. Due to HTTP request restrictions on Google News, automated scraping tools are required to navigate and extract links.\n",
    "  3. **Extract the Report**: Utilize `Selenium` to access each URL obtained from Google News. Given the varied structure of report pages, use `Google Genimi` to accurately extract the report content from the `<body>` of the website. During extraction, replace occurrences of the group's name or any known aliases with `[PLACEHOLDER]`.\n",
    "  4. **Data Validation**: Apply validation using the `Google Genimi` model to ensure the extracted content meets quality standards. The validation criteria include:\n",
    "     - Must contain detailed information about techniques.\n",
    "     - Should include Indicators of Compromise (IOCs).\n",
    "     - Should provide hints or insights related to the actor responsible for the attack.\n",
    "  5. **Store the Data**: Save the validated reports and corresponding actor names in a structured format, such as CSV or JSON, with two columns: `Report` and `Group Actor Name`."
   ]
  },
  {
   "cell_type": "code",
   "execution_count": null,
   "metadata": {},
   "outputs": [],
   "source": [
    "\n",
    "\n",
    "from Scrap.Reports_scraper import deep_validation\n",
    "from Scrap.Reports_scraper.reports_validation import scrap_reports\n",
    "from Scrap.Reports_scraper.scrap_reports_links import get_existing_groups, scrap_reports_links\n",
    "\n",
    "\n",
    "intrusion_sets='ATT&AK/intrusion_sets.json'\n",
    "exicting_groups = get_existing_groups(intrusion_sets)\n",
    "\n",
    "output_reports_links_csv = 'Data\\logs\\cve_links.csv'\n",
    "scrap_reports_links(exicting_groups,output_reports_links_csv)\n",
    "\n",
    "output_reports_data_tsv = 'Data\\logs\\reports_data_tsv'\n",
    "scrap_reports(output_reports_links_csv,output_reports_data_tsv)\n",
    "\n",
    "\n",
    "final_reports = r\"Data\\collected_data\"\n",
    "deep_validation(output_reports_data_tsv ,final_reports)"
   ]
  },
  {
   "cell_type": "markdown",
   "metadata": {},
   "source": [
    "#### 2.5.4. Summarize data scraped"
   ]
  },
  {
   "cell_type": "code",
   "execution_count": 13,
   "metadata": {},
   "outputs": [],
   "source": [
    "reports = pd.read_csv(r\"Data\\rapports_data.csv\")\n"
   ]
  },
  {
   "cell_type": "markdown",
   "metadata": {},
   "source": [
    "##### 2.5.4.1 Row exemple"
   ]
  },
  {
   "cell_type": "code",
   "execution_count": 15,
   "metadata": {},
   "outputs": [
    {
     "data": {
      "text/html": [
       "<table border=\"1\" class=\"dataframe\">\n",
       "  <thead>\n",
       "    <tr style=\"text-align: right;\">\n",
       "      <th>Unnamed: 0</th>\n",
       "      <th>link</th>\n",
       "      <th>group_name</th>\n",
       "      <th>rapport</th>\n",
       "    </tr>\n",
       "  </thead>\n",
       "  <tbody>\n",
       "    <tr>\n",
       "      <td>250</td>\n",
       "      <td>https://www.virusbulletin.com/newsletter/</td>\n",
       "      <td>Charming Kitten</td>\n",
       "      <td>Iran-Backed [PLACEHOLDER] Stages Fake Webinar Platform to Ensnare Targets  The latest ploy by the APT also known as Charming Cypress targets policy experts in the Middle East, Europe, and the US.  Conflicts in the Middle East, Ukraine, and other areas of simmering geopolitical tensions have made policy experts the latest target of cyber operations conducted by state-sponsored groups. An Iran-linked group — known as [PLACEHOLDER], CharmingCypress, and APT42 — recently targeted Middle East policy experts in the region as well as in the US and Europe, using a phony webinar platform to compromise its targeted victims, incident response services firm Volexity stated in an advisory published this month.  [PLACEHOLDER] is well known for its extensive social engineering tactics, including low-and-slow social engineering attacks against think tanks and journalists to gather political intelligence, the firm stated. The group often dupes is targets into installing Trojan-rigged VPN applications to gain access to the fake webinar platform and other sites, resulting in the installation of malware. Overall, the group has embraced the long confidence game, says Steven Adair, co-founder and president of Volexity.  \\\"I don't know if that is necessarily sophisticated and advanced, but it is a lot of effort,\\\" he says. \\\"It's more advanced and more sophisticated than your average attack by a significant margin. It's a level of effort and dedication ... that is definitely different and uncommon ... to go to that much effort for such a specific set of attacks.\\\"  Geopolitical Experts in the Crosshairs  Policy experts are a frequently targeted by nation-state groups. The Russia-linked ColdRiver group, for example, has targeted nongovernmental organizations, military officers, and other experts using social engineering to gain the confidence of the victim and then following up with a malicious link or malware. In Jordan, targeted exploitation — reportedly by government agencies — used the Pegasus spyware program developed by the NSO Group and targeted journalists, digital-rights lawyers, and other policy experts. Other companies have also described [PLACEHOLDER]/CharmingCypress' tactics. In a January advisory, Microsoft warned that the group, which it calls Mint Sandstorm, had targeted journalists, researchers, professors, and other experts covering security and policy topics of interest to the Iranian government.  \\\"Operators associated with this subgroup of Mint Sandstorm are patient and highly skilled social engineers whose tradecraft lacks many of the hallmarks that allow users to quickly identify phishing emails,\\\" Microsoft stated. \\\"In some instances of this campaign, this subgroup also used legitimate but compromised accounts to send phishing lures.\\\"  The group has been active since at least 2013, has strong links to the Islamic Revolutionary Guard Corps (IRGC), and has not been directly involved in the cyber-operational aspect of the conflict between Israel and Hamas, according to cybersecurity firm CrowdStrike.   \\\"Unlike in the Russia-Ukraine war, where known cyber operations have directly contributed to the conflict, those involved in the Israel-Hamas conflict have not directly contributed to Hamas’ military operations against Israel,\\\" the company stated in its \\\"2024 Global Threat Report\\\" released on Feb. 21.  Building Rapport Over Time  These attacks usually start with spear-phishing and end with a combination of malware delivered to the target's system, according to an advisory from Volexity, which calls the group CharmingCypress. In September and October 2023, CharmingCypress used a number of typo-squatted domains — addresses similar to legitimate domains — to pose as officials from the International Institute of Iranian Studies (IIIS) to invite policy experts to a webinar. The initial email demonstrated the low-and-slow approach of CharmingCypress, eschewing any malicious link or attachment and inviting the targeted professional to reach out through other channels of communications, such as WhatsApp and Signal.   Using in-depth spearphishing, CharmingCypress aims to convince policy experts to install malware.  The attacks target Middle East policy experts worldwide, with Volexity encountering a majority of attacks against European and US professionals, Adair says.  \\\"They are quite aggressive,\\\" he says. \\\"They'll even set up entire email chains or a phishing scenario where they're looking for comment and there's other people — maybe three, four, or five people on that email thread with the exception of the target — they're definitely trying to build rapport.\\\"  The long con eventually delivers a payload. Volexity identified five different malware families associated with the threat. The PowerLess backdoor is installed by the Windows version of the malware-laden virtual private network (VPN) application, which uses PowerShell to allow files to be transferred and executed, as well as targeting specific data on the system, logging keystrokes, and capturing screenshots. A macOS version of the malware is dubbed NokNok, while a separate malware chain using a RAR archive and LNK exploit leads to a backdoor named Basicstar.  Defending Becomes More Difficult  The group's approach to social engineering definitely embodies the \\\"persistence\\\" piece of the advanced persistent threat (APT). Volexity sees a \\\"constant barrage\\\" of attacks, so policy experts have to become even more suspicious of cold contacts, Adair says.  Doing so will be difficult, as many policy experts are academics in constant contact with students or members of the public and are not used to being strict with their contacts, he says. Yet they should definitely think before opening documents or entering credentials into a site reached through an unknown link.  \\\"At the end of the day, they have to get the person to click something or open something, which if I want you to review a paper or something like that, means ... being very wary of links and files,\\\" Adair says. \\\"If I have to enter my credentials at any point in time, or authorize something — that should be a major red flag. Similarly, if I'm being asked to download something, that should be a pretty big red flag.\\\"  In addition, policy experts need to understand that CharmingCypress will continue to target them even if its attempts fail, Volexity stated.   \\\"This threat actor is highly committed to conducting surveillance on their targets in order to determine how best to manipulate them and deploy malware,\\\" the company stated in its advisory. \\\"Additionally, few other threat actors have consistently churned out as many campaigns as CharmingCypress, dedicating human operators to support their ongoing efforts.\\\"</td>\n",
       "    </tr>\n",
       "  </tbody>\n",
       "</table>"
      ],
      "text/plain": [
       "<IPython.core.display.HTML object>"
      ]
     },
     "metadata": {},
     "output_type": "display_data"
    }
   ],
   "source": [
    "from IPython.display import HTML\n",
    "html_table = reports.tail(1).to_html(index=False)\n",
    "display(HTML(html_table))"
   ]
  },
  {
   "cell_type": "markdown",
   "metadata": {},
   "source": [
    "##### 2.5.4.1 Stats"
   ]
  },
  {
   "cell_type": "code",
   "execution_count": 17,
   "metadata": {},
   "outputs": [
    {
     "data": {
      "text/html": [
       "<table>\n",
       "<thead>\n",
       "<tr><th style=\"text-align: center;\">             Metric             </th><th style=\"text-align: right;\">  Value</th></tr>\n",
       "</thead>\n",
       "<tbody>\n",
       "<tr><td style=\"text-align: center;\">Number of clean reports scrapped</td><td style=\"text-align: right;\">    251</td></tr>\n",
       "</tbody>\n",
       "</table>"
      ],
      "text/plain": [
       "<IPython.core.display.HTML object>"
      ]
     },
     "metadata": {},
     "output_type": "display_data"
    }
   ],
   "source": [
    "from IPython.display import HTML, display\n",
    "\n",
    "num_objects = len(reports)\n",
    "# Prepare the data for tabulate\n",
    "table_data = [['Number of clean reports scrapped', num_objects]]\n",
    "\n",
    "# Convert to HTML using tabulate\n",
    "html_table = tabulate(table_data, headers=['Metric', 'Value'], tablefmt='html', stralign='center')\n",
    "\n",
    "# Display the HTML table\n",
    "display(HTML(html_table))"
   ]
  },
  {
   "cell_type": "markdown",
   "metadata": {},
   "source": [
    "### 2.6. MCQ Data Collection and Generation"
   ]
  },
  {
   "cell_type": "markdown",
   "metadata": {},
   "source": [
    "\n",
    "\n",
    "#### 2.6.1. Description\n",
    "This section focuses on generating multiple-choice questions (MCQs) from various cyber threat intelligence datasets, including attack patterns, CWE, CVE, and CAPEC.\n",
    "\n",
    "#### 2.6.2. MCQ Fields\n",
    "Each MCQ will consist of the following fields:\n",
    "- **Reference**: The source or dataset from which the MCQ was derived (e.g., Attack Patterns, CWE, CVE, CAPEC) ids.\n",
    "- **Question**: The question to be answered.\n",
    "- **Option A**: First possible answer.\n",
    "- **Option B**: Second possible answer.\n",
    "- **Option C**: Third possible answer.\n",
    "- **Option D**: Fourth possible answer.\n",
    "- **Correct Answer**: The correct option among A, B, C, or D.\n",
    "- **Explanation**: An explanation of why the answer is correct.\n",
    "\n",
    "#### 2.6.3. Data Sources\n",
    "- **Attack Patterns**: [MITRE ATT&CK](https://attack.mitre.org)\n",
    "- **CWE**: [CWE - MITRE](https://cwe.mitre.org)\n",
    "- **CVE**: [NVD - National Vulnerability Database](https://nvd.nist.gov)\n",
    "- **CAPEC**: [CAPEC - MITRE](https://capec.mitre.org)\n",
    "\n",
    "\n",
    "\n"
   ]
  },
  {
   "cell_type": "markdown",
   "metadata": {},
   "source": [
    "#### 2.6.4. Generating MCQs\n",
    "- **Tools**: `Google Genimi`\n",
    "- **Process**:\n",
    "  1. **Extract Data**: Use the previously collected and processed data from Attack Patterns, CWE, CVE, and CAPEC datasets.\n",
    "  2. **Generate Questions**: Utilize the `Google Genimi` model to generate MCQs based on the extracted data. The model will be used to:\n",
    "     - Formulate questions related to specific data points from the datasets.\n",
    "     - Create multiple-choice options for each question.\n",
    "     - Identify the correct answer and provide an explanation.\n",
    "  3. **Format MCQs**: Structure the generated questions and answers according to the specified MCQ format:\n",
    "     - **Reference**: Indicate the dataset or source.\n",
    "     - **Question**: Create a clear and concise question.\n",
    "     - **Options A-D**: Generate plausible options.\n",
    "     - **Correct Answer**: Mark the correct option.\n",
    "     - **Explanation**: Provide a detailed explanation for the correct answer.\n",
    "  4. **Review and Validate**: Ensure that the generated MCQs are accurate, relevant, and correctly formatted.\n",
    "  5. **Store the Data**: Save the MCQs in a structured format, such as CSV or JSON, with fields for Reference, Question, Options, Correct Answer, and Explanation."
   ]
  },
  {
   "cell_type": "code",
   "execution_count": null,
   "metadata": {},
   "outputs": [],
   "source": [
    "from Scrap.QCM_generating.data_processing import take_random_rows\n",
    "\n",
    "\n",
    "cve_data_csv = 'data\\cve_detailed_data_v2.csv'\n",
    "CAPEC_data_csv = 'data\\CAPEC.csv'\n",
    "cwe_data = 'data\\cwe_data.csv'\n",
    "\n",
    "cwe_data = pd.read_csv(cwe_data)\n",
    "CAPEC_data = pd.read_csv(CAPEC_data_csv)\n",
    "cve_data = take_random_rows(cve_data_csv,3000)\n",
    "attack_patterns_data = attack_patterns"
   ]
  },
  {
   "cell_type": "code",
   "execution_count": null,
   "metadata": {},
   "outputs": [],
   "source": [
    "from Scrap.QCM_generating.generate_capec_related import generate_capec_qcm\n",
    "from Scrap.QCM_generating.generate_cve_related import generate_cves_qcm\n",
    "from Scrap.QCM_generating.generate_cwe_related import generate_cwes_qcm\n",
    "from Scrap.QCM_generating.generate_techniques_related import generate_techniques_qcm\n",
    "\n",
    "\n",
    "cwes_qcms = generate_cwes_qcm(cwe_data)\n",
    "\n",
    "cves_qcms = generate_cves_qcm(cve_data)\n",
    "\n",
    "CAPEC_qcms = generate_capec_qcm(CAPEC_data)\n",
    "\n",
    "techniques_qcms = generate_techniques_qcm(attack_patterns_data)\n",
    "\n",
    "\n"
   ]
  },
  {
   "cell_type": "markdown",
   "metadata": {},
   "source": [
    "#### 2.6.5. **Summarize** data generated"
   ]
  },
  {
   "cell_type": "markdown",
   "metadata": {},
   "source": [
    "##### 2.6.5.1 Row Exemple "
   ]
  },
  {
   "cell_type": "code",
   "execution_count": 3,
   "metadata": {},
   "outputs": [
    {
     "data": {
      "text/html": [
       "<pre style='font-size: 12px;padding: 10px; border: 1px solid #ddd;'>{\n",
       "&nbsp;&nbsp;&nbsp;&nbsp;\"Reference\": \"T1055.011\",\n",
       "&nbsp;&nbsp;&nbsp;&nbsp;\"Question\": \"What is a common API call used by adversaries to manipulate Extra Window Memory (EWM)?\",\n",
       "&nbsp;&nbsp;&nbsp;&nbsp;\"Option A\": \"CreateRemoteThread\",\n",
       "&nbsp;&nbsp;&nbsp;&nbsp;\"Option B\": \"WriteProcessMemory\",\n",
       "&nbsp;&nbsp;&nbsp;&nbsp;\"Option C\": \"GetWindowLong\",\n",
       "&nbsp;&nbsp;&nbsp;&nbsp;\"Option D\": \"VirtualAllocEx\",\n",
       "&nbsp;&nbsp;&nbsp;&nbsp;\"Correct Answer\": \"Option C\",\n",
       "&nbsp;&nbsp;&nbsp;&nbsp;\"Explanation\": \"GetWindowLong is used by adversaries to retrieve the value of an extra window memory location, which can be used to point to a malicious payload.\"\n",
       "}</pre>"
      ],
      "text/plain": [
       "<IPython.core.display.HTML object>"
      ]
     },
     "metadata": {},
     "output_type": "display_data"
    }
   ],
   "source": [
    "from IPython.display import HTML, display\n",
    "import json\n",
    "with open(r'Data\\logs\\QCM_TECHNIQUES.json', 'r') as file:\n",
    "    data = json.load(file)\n",
    "def format_json(data, indent=4):\n",
    "    \"\"\"Format JSON data with indentation and syntax highlighting\"\"\"\n",
    "    formatted_json = json.dumps(data, indent=indent)\n",
    "    formatted_json = formatted_json.replace(\"  \", \"&nbsp;&nbsp;\")\n",
    "    return f\"<pre style='font-size: 12px;padding: 10px; border: 1px solid #ddd;'>{formatted_json}</pre>\"\n",
    "\n",
    "# Get the first object (assuming the JSON is a list of objects)\n",
    "first_object = data[2] if isinstance(data, list) and len(data) > 0 else data\n",
    "\n",
    "# Print the formatted JSON\n",
    "formatted_json = format_json(first_object)\n",
    "display(HTML(formatted_json))"
   ]
  },
  {
   "cell_type": "markdown",
   "metadata": {},
   "source": [
    "##### 2.6.5.2 Number Of Generated MCQ per Type"
   ]
  },
  {
   "cell_type": "code",
   "execution_count": 77,
   "metadata": {},
   "outputs": [
    {
     "data": {
      "image/png": "[encoded data removed]",
      "text/plain": [
       "<Figure size 1200x600 with 1 Axes>"
      ]
     },
     "metadata": {},
     "output_type": "display_data"
    }
   ],
   "source": [
    "\n",
    "import pandas as pd\n",
    "from tabulate import tabulate\n",
    "from IPython.display import HTML, display\n",
    "from matplotlib import pyplot as plt\n",
    "\n",
    "data_files = [\"QCM_CAPEC\", \"QCM_CVE\", \"QCM_CWE\",\"QCM_TECHNIQUES\"]\n",
    "def preper_data(filename):\n",
    "\n",
    "    new_df = pd.DataFrame()\n",
    "    df = pd.read_json(f'Data\\hidden\\{filename}.json')\n",
    "    new_df[\"Reference\"] = df[\"Reference\"]\n",
    "    new_df[\"Question\"] = df[\"Question\"]\n",
    "    new_df[\"Option A\"] = df[\"Option A\"]\n",
    "    new_df[\"Option B\"] = df[\"Option B\"]\n",
    "    new_df[\"Option C\"] = df[\"Option C\"]\n",
    "    new_df[\"Option D\"] = df[\"Option D\"]\n",
    "    new_df[\"Correct Answer\"] = df[\"Correct Answer\"]\n",
    "    new_df[\"Explanation\"] = df[\"Explanation\"]\n",
    "    new_df[\"qcm_type\"] = filename\n",
    "  \n",
    "    return new_df\n",
    "\n",
    "final_df = pd.DataFrame()\n",
    "for filename in data_files : \n",
    "    im_df = preper_data(filename)\n",
    "    final_df = pd.concat([final_df, im_df], ignore_index=True)\n",
    "\n",
    "\n",
    "plt.figure(figsize=(12, 6))\n",
    "plt.hist(final_df['qcm_type'], bins=30, edgecolor='k', color='skyblue')\n",
    "plt.title('number of generated MCQ per type ', fontsize=14)\n",
    "plt.xlabel('MCQ types', fontsize=12)\n",
    "plt.ylabel('number of MCQs', fontsize=12)\n",
    "plt.xticks(rotation=45)\n",
    "plt.grid(axis='y', linestyle='--', alpha=0.7)\n",
    "plt.tight_layout()\n",
    "plt.show()\n",
    "\n"
   ]
  },
  {
   "cell_type": "markdown",
   "metadata": {},
   "source": [
    "#### 2.6.6. Data Balancing\n",
    "\n",
    "To ensure a balanced dataset, various QCMs (Questionnaire or Multiple Choice Questions) are combined and balanced using data augmentation techniques. The datasets involved are:\n",
    "\n",
    "- **CWE QCMs**\n",
    "- **CVE QCMs**\n",
    "- **CAPEC QCMs**\n",
    "- **Techniques QCMs**\n",
    "\n",
    "### Balancing Process\n",
    "\n",
    "The datasets are balanced using data augmentation techniques provided by the `AIDataAugment.TextAugmentor` library. This library assists in augmenting text datasets to address imbalances.\n",
    "\n",
    "**Library**: `AIDataAugment.TextAugmentor`\n",
    "\n",
    "The [TextAugmentor](https://github.com/FaroukDaboussi0/AIDataAugment/blob/master/README.md) library uses advanced  Google Gemini to reformulate questions, preserving their meaning while creating diverse variations. After augmentation, answer options are shuffled to ensure variety and quality. This approach effectively balances the dataset, preparing it for further analysis or training.\n"
   ]
  },
  {
   "cell_type": "code",
   "execution_count": null,
   "metadata": {},
   "outputs": [],
   "source": [
    "from Scrap.QCM_generating.data_augmentation import balance_data\n",
    "\n",
    "\n",
    "qcms = balance_data([cwes_qcms,cves_qcms,CAPEC_qcms,techniques_qcms])"
   ]
  },
  {
   "cell_type": "markdown",
   "metadata": {},
   "source": [
    "##### 2.6.6.1 Number Of Generated MCQ per Type"
   ]
  },
  {
   "cell_type": "code",
   "execution_count": 33,
   "metadata": {},
   "outputs": [
    {
     "data": {
      "image/png": "[encoded data removed]",
      "text/plain": [
       "<Figure size 1200x600 with 1 Axes>"
      ]
     },
     "metadata": {},
     "output_type": "display_data"
    }
   ],
   "source": [
    "import pandas as pd\n",
    "from matplotlib import pyplot as plt\n",
    "\n",
    "# Load the dataset and drop the first column\n",
    "qcms = pd.read_csv(r\"Data\\finetuning_data\\MCQs_augmented.csv\")\n",
    "qcms = qcms.drop(qcms.columns[0], axis=1)\n",
    "\n",
    "def get_type(text):\n",
    "    if text.startswith(\"T\"):\n",
    "        return \"QCM_TECHNIQUES\"\n",
    "    elif text.startswith(\"CAPEC\"):\n",
    "        return \"QCM_CAPEC\"\n",
    "    elif text.startswith(\"CWE\"):\n",
    "        return \"QCM_CWE\"\n",
    "    elif text.startswith(\"CVE\"):\n",
    "        return \"QCM_CVE\"\n",
    "    else:\n",
    "        return \"UNKNOWN\"  # Handle cases where the text does not match any criteria\n",
    "\n",
    "# Apply the function to the 'Reference' column\n",
    "qcms[\"type\"] = qcms[\"Reference\"].apply(get_type) \n",
    "plt.figure(figsize=(12, 6))\n",
    "plt.hist(qcms['type'], bins=30, edgecolor='k', color='skyblue')\n",
    "plt.title('number of generated MCQ per type after Text Augmentation ', fontsize=14)\n",
    "plt.xlabel('MCQ types', fontsize=12)\n",
    "plt.ylabel('number of MCQs', fontsize=12)\n",
    "plt.xticks(rotation=45)\n",
    "plt.grid(axis='y', linestyle='--', alpha=0.7)\n",
    "plt.tight_layout()\n",
    "plt.show()"
   ]
  },
  {
   "cell_type": "markdown",
   "metadata": {},
   "source": [
    "## 3. Data Preparation"
   ]
  },
  {
   "cell_type": "markdown",
   "metadata": {},
   "source": [
    "\n",
    "\n",
    "### 3.1. Overview\n",
    "In this phase, the collected data is prepared for evaluation based on the CTIBench benchmark. The data is organized into four distinct tasks: generating multiple-choice questions (MCQs), identifying related Common Weakness Enumerations (CWEs), associating reports with related actors, and linking descriptions to CVSS scores.\n",
    "\n",
    "### 3.2. Data Preparation Tasks\n",
    "\n",
    "#### 3.2.1. CTI_MCQs\n",
    "- **Description**: Prepare data for generating multiple-choice questions related to cyber threat intelligence.\n",
    "- **Fields**:\n",
    "  - **Reference**: Source of the information used to create the MCQ (e.g., Attack Patterns, CWE, CVE, CAPEC).\n",
    "  - **Question**: The question to be answered.\n",
    "  - **Option A**: First possible answer.\n",
    "  - **Option B**: Second possible answer.\n",
    "  - **Option C**: Third possible answer.\n",
    "  - **Option D**: Fourth possible answer.\n",
    "  - **GT (Correct Answer)**: Ground truth for the correct answer.\n",
    "- **Data Sources**: Extract from Attack Patterns, CWE, CVE, CAPEC datasets.\n",
    "- **Process**:\n",
    "  1. **Format Data**: Ensure each MCQ is formatted with all required fields.\n",
    "  2. **Verify Accuracy**: Confirm that the correct answers are accurately labeled.\n",
    "\n",
    "#### 3.2.2. CTI_RCM (Related CWE Mapping)\n",
    "- **Description**: Map descriptions to related Common Weakness Enumerations (CWEs).\n",
    "- **Fields**:\n",
    "  - **Description**: The description of the cyber threat or vulnerability.\n",
    "  - **GT (Related CWE)**: Ground truth for the related CWE(s).\n",
    "- **Data Sources**: CWE dataset and related cyber threat descriptions.\n",
    "- **Process**:\n",
    "  1. **Match Descriptions**: Identify and associate descriptions with corresponding CWEs.\n",
    "  2. **Validate Mapping**: Ensure that the ground truth CWEs accurately reflect the descriptions.\n",
    "\n",
    "#### 3.2.3. CTI_TTA (Threat Actor Mapping)\n",
    "- **Description**: Link threat reports to the related actors responsible for the attacks.\n",
    "- **Fields**:\n",
    "  - **Report**: The full text of the threat or attack report.\n",
    "  - **GT (Related Actor)**: Ground truth for the actor responsible for the attack.\n",
    "- **Data Sources**: Threat reports and MITRE ATT&CK actor list.\n",
    "- **Process**:\n",
    "  1. **Extract and Anonymize**: Extract reports and anonymize group names with `[PLACEHOLDER]`.\n",
    "  2. **Map Actors**: Associate each report with the correct threat actor.\n",
    "  3. **Verify Accuracy**: Ensure that the ground truth actors are correctly identified.\n",
    "\n",
    "#### 3.2.4. CTI_VSP (Vulnerability Severity Prediction)\n",
    "- **Description**: Link descriptions to CVSS (Common Vulnerability Scoring System) scores.\n",
    "- **Fields**:\n",
    "  - **Description**: The description of the vulnerability.\n",
    "  - **GT (Related CVSS Score)**: Ground truth for the CVSS score.\n",
    "- **Data Sources**: CVE dataset and associated vulnerability descriptions.\n",
    "- **Process**:\n",
    "  1. **Associate Descriptions**: Map vulnerability descriptions to their CVSS scores.\n",
    "  2. **Validate Scores**: Confirm that the ground truth CVSS scores accurately reflect the descriptions.\n"
   ]
  },
  {
   "cell_type": "code",
   "execution_count": null,
   "metadata": {},
   "outputs": [],
   "source": [
    "\n",
    "from Data_preparation.cti_mcq import preper_cti_mcq_to_train\n",
    "from Data_preparation.cti_rcm import preper_cti_rcm_to_train\n",
    "from Data_preparation.cti_tta import preper_cti_tta_to_train\n",
    "from Data_preparation.cti_vsp import preper_cti_vsp_to_train\n",
    "\n",
    "\n",
    "cve_data = r\"Data\\collected_data\\cve_data.csv\"\n",
    "qcm_data = r\"Data\\logs\\MCQs_augmented.csv\"\n",
    "reports_data = r\"Data\\collected_data\\rapports_data.csv\"\n",
    "\n",
    "\n",
    "cti_rcm = r\"Data\\finetuning_data\\cti-rcm.csv\"\n",
    "cti_vsp = r\"Data\\finetuning_data\\cti-vsp.csv\" \n",
    "cti_mcq = r\"Data\\finetuning_data\\cti_mcq.csv\"\n",
    "cti_tta = r\"Data\\finetuning_data\\cti_tta.csv\"\n",
    "\n",
    "preper_cti_rcm_to_train(cve_data,cti_rcm)\n",
    "\n",
    "preper_cti_vsp_to_train(cve_data,cti_vsp)\n",
    "\n",
    "preper_cti_mcq_to_train(qcm_data,cti_mcq)\n",
    "\n",
    "preper_cti_tta_to_train(reports_data,cti_tta)\n",
    "\n",
    "\n"
   ]
  },
  {
   "cell_type": "markdown",
   "metadata": {},
   "source": [
    "### 3.3. **Data visualisation**"
   ]
  },
  {
   "cell_type": "markdown",
   "metadata": {},
   "source": [
    "##### 3.3.1 cti data distribution per type"
   ]
  },
  {
   "cell_type": "code",
   "execution_count": 45,
   "metadata": {},
   "outputs": [
    {
     "data": {
      "image/png": "[encoded data removed]",
      "text/plain": [
       "<Figure size 1000x600 with 1 Axes>"
      ]
     },
     "metadata": {},
     "output_type": "display_data"
    }
   ],
   "source": [
    "import pandas as pd\n",
    "import matplotlib.pyplot as plt\n",
    "\n",
    "# List of CSV filenames\n",
    "filenames = [\"cti-rcm\", \"cti-vsp\", \"cti_mcq\", \"cti_tta\"]\n",
    "\n",
    "# Initialize lists to store filenames and lengths\n",
    "file_names = []\n",
    "file_lengths = []\n",
    "\n",
    "# Iterate over the filenames\n",
    "for filename in filenames:\n",
    "    # Read the CSV file\n",
    "    file_path = fr\"Data\\finetuning_data\\{filename}.csv\"\n",
    "    df = pd.read_csv(file_path)\n",
    "    \n",
    "    # Append filename and number of rows to lists\n",
    "    file_names.append(filename)\n",
    "    file_lengths.append(len(df))\n",
    "\n",
    "# Create a bar plot\n",
    "plt.figure(figsize=(10, 6))\n",
    "plt.bar(file_names, file_lengths, color='skyblue')\n",
    "\n",
    "# Add titles and labels\n",
    "plt.xlabel('Filenames')\n",
    "plt.ylabel('Number of Rows')\n",
    "plt.title('Number of Rows in CSV Files')\n",
    "plt.xticks(rotation=45)  # Rotate filenames for better readability\n",
    "\n",
    "# Show the plot\n",
    "plt.tight_layout()\n",
    "plt.show()\n"
   ]
  },
  {
   "cell_type": "markdown",
   "metadata": {},
   "source": [
    "### 3.4. **Data Augmentation**"
   ]
  },
  {
   "cell_type": "code",
   "execution_count": null,
   "metadata": {},
   "outputs": [],
   "source": [
    "from Data_preparation.Data_augmentation import balance_train_data\n",
    "\n",
    "\n",
    "balance_train_data(cti_rcm, cti_vsp, cti_mcq, cti_tta)\n"
   ]
  },
  {
   "cell_type": "code",
   "execution_count": 7,
   "metadata": {},
   "outputs": [
    {
     "data": {
      "image/png": "[encoded data removed]",
      "text/plain": [
       "<Figure size 1000x600 with 1 Axes>"
      ]
     },
     "metadata": {},
     "output_type": "display_data"
    }
   ],
   "source": [
    "import pandas as pd\n",
    "import matplotlib.pyplot as plt\n",
    "\n",
    "# List of CSV filenames\n",
    "filenames = [\"cti_rcm\", \"cti_vsp\", \"cti_mcq\", \"cti_tta\"]\n",
    "\n",
    "# Initialize lists to store filenames and lengths\n",
    "file_names = []\n",
    "file_lengths = []\n",
    "\n",
    "# Iterate over the filenames\n",
    "for filename in filenames:\n",
    "    # Read the CSV file\n",
    "    file_path = fr\"Data\\finetuning_data\\balanced_data\\{filename}.csv\"\n",
    "    df = pd.read_csv(file_path)\n",
    "    \n",
    "    # Append filename and number of rows to lists\n",
    "    file_names.append(filename)\n",
    "    file_lengths.append(len(df))\n",
    "\n",
    "# Create a bar plot\n",
    "plt.figure(figsize=(10, 6))\n",
    "plt.bar(file_names, file_lengths, color='skyblue')\n",
    "\n",
    "# Add titles and labels\n",
    "plt.xlabel('Filenames')\n",
    "plt.ylabel('Number of Rows')\n",
    "plt.title('Number of Rows in CSV Files')\n",
    "plt.xticks(rotation=45)  # Rotate filenames for better readability\n",
    "\n",
    "# Show the plot\n",
    "plt.tight_layout()\n",
    "plt.show()\n"
   ]
  },
  {
   "cell_type": "markdown",
   "metadata": {},
   "source": [
    "### 3.4. **Training Data** Preprocess "
   ]
  },
  {
   "cell_type": "code",
   "execution_count": 9,
   "metadata": {},
   "outputs": [],
   "source": [
    "from Data_preparation.preproces_cti_data_to_llm import preprocess_cti_data_to_llm\n",
    "\n",
    "\n",
    "cti_rcm = fr\"Data\\finetuning_data\\balanced_data\\cti_rcm.csv\"\n",
    "cti_vsp = fr\"Data\\finetuning_data\\balanced_data\\cti_vsp.csv\"\n",
    "cti_mcq = fr\"Data\\finetuning_data\\balanced_data\\cti_mcq.csv\"\n",
    "cti_tta = fr\"Data\\finetuning_data\\balanced_data\\cti_tta.csv\"\n",
    "training_data = preprocess_cti_data_to_llm(cti_rcm, cti_vsp, cti_mcq, cti_tta)\n",
    "training_data.to_csv(r\"Data\\finetuning_data\\cti_training_data.csv\", index=False)\n"
   ]
  },
  {
   "cell_type": "markdown",
   "metadata": {},
   "source": [
    "### 3.5. **Training Data** Discovering"
   ]
  },
  {
   "cell_type": "markdown",
   "metadata": {},
   "source": [
    "##### 3.5.1 Exemple Rows"
   ]
  },
  {
   "cell_type": "code",
   "execution_count": 13,
   "metadata": {},
   "outputs": [
    {
     "data": {
      "text/html": [
       "<table border=\"1\" class=\"dataframe table table-striped\">\n",
       "  <thead>\n",
       "    <tr style=\"text-align: right;\">\n",
       "      <th>Prompt</th>\n",
       "      <th>GT</th>\n",
       "    </tr>\n",
       "  </thead>\n",
       "  <tbody>\n",
       "    <tr>\n",
       "      <td>You are given a multiple-choice question (MCQ) from a Cyber Threat Intelligence (CTI) knowledge benchmark dataset. Your task is to choose the best option among the four provided. Return your answer as a single uppercase letter: A, B, C, or D. **Question:** How do attackers commonly capture user credentials during the authentication process on Windows systems using the Network Provider DLL technique? ? **Options:** A) Using a rootkit to intercept credential requests B) Modifying the `mpnotify.exe` process to redirect credentials C) Registering a malicious network provider DLL D) Exploiting a vulnerability in the `Winlogon` service **Important:** The last line of your answer should contain only the single letter corresponding to the best option, with no additional text.</td>\n",
       "      <td>C</td>\n",
       "    </tr>\n",
       "    <tr>\n",
       "      <td>Analyze the following CVE description and calculate the CVSS v3.1 Base Score. Determine the values for each base metric: AV, AC, PR, UI, S, C, I, and A. Summarize each metric's value and provide the final CVSS v3.1 vector string. Ensure the final line of your response contains only the CVSS v3 Vector String in the following format: Example format: CVSS:3.1/AV:N/AC:L/PR:N/UI:N/S:U/C:H/I:H/A:H CVE Description: A vulnerability in the self-healing functionality of Cisco IOS XE Software for Embedded Wireless Controllers on Catalyst Access Points could allow an authenticated, local attacker to escape the restricted controller shell and execute arbitrary commands on the underlying operating system of the access point. This vulnerability is due to improper checks throughout the restart of certain system processes. An attacker could exploit this vulnerability by logging on to an affected device and executing certain CLI commands. A successful exploit could allow the attacker to execute arbitrary commands on the underlying OS as root. To successfully exploit this vulnerability, an attacker would need valid credentials for a privilege level 15 user of the wireless controller.</td>\n",
       "      <td>CVSS:3.1/AV:L/AC:L/PR:H/UI:N/S:U/C:H/I:H/A:H</td>\n",
       "    </tr>\n",
       "    <tr>\n",
       "      <td>Analyze the following CVE description and map it to the appropriate CWE. Provide a brief justification for your choice. Ensure the last line of your response contains only the CWE ID. CVE Description: a function called 'nla_parse', do not check the len of para, it will check nla_type (which can be controlled by userspace) with 'maxtype' (in this case, it is GSCAN_MAX), then it access polciy array 'policy[type]', which OOB access happens.Product: AndroidVersions: Android SoCAndroid ID: A-238379819</td>\n",
       "      <td>CWE-1284</td>\n",
       "    </tr>\n",
       "  </tbody>\n",
       "</table>"
      ],
      "text/plain": [
       "<IPython.core.display.HTML object>"
      ]
     },
     "metadata": {},
     "output_type": "display_data"
    }
   ],
   "source": [
    "import pandas as pd\n",
    "import random\n",
    "from IPython.display import display, HTML\n",
    "\n",
    "# Load the dataset\n",
    "training_data_path = r\"Data\\finetuning_data\\cti_training_data.csv\"\n",
    "training_data = pd.read_csv(training_data_path)\n",
    "\n",
    "# Select 3 random rows\n",
    "random_rows = training_data.sample(n=3)\n",
    "\n",
    "# Display the selected rows in a scrollable table\n",
    "# Adjust the max-height to control the scroll area\n",
    "display(HTML(random_rows.to_html(classes='table table-striped', index=False)))\n"
   ]
  },
  {
   "cell_type": "markdown",
   "metadata": {},
   "source": [
    "##### 3.5.2 Number of Simples in Training Data"
   ]
  },
  {
   "cell_type": "code",
   "execution_count": 11,
   "metadata": {},
   "outputs": [
    {
     "data": {
      "image/png": "[encoded data removed]",
      "text/plain": [
       "<Figure size 800x200 with 1 Axes>"
      ]
     },
     "metadata": {},
     "output_type": "display_data"
    }
   ],
   "source": [
    "import pandas as pd\n",
    "import matplotlib.pyplot as plt\n",
    "\n",
    "# Load the dataset\n",
    "training_data_path = r\"Data\\finetuning_data\\cti_training_data.csv\"\n",
    "training_data = pd.read_csv(training_data_path)\n",
    "\n",
    "# Calculate the total number of observations\n",
    "num_observations = len(training_data)\n",
    "\n",
    "# Plotting\n",
    "plt.figure(figsize=(8, 2))\n",
    "plt.barh(['Total Observations'], [num_observations], color='skyblue')\n",
    "plt.xlabel('Number of Observations')\n",
    "plt.title('Total Number of Observations in Training Data')\n",
    "plt.show()\n"
   ]
  },
  {
   "cell_type": "markdown",
   "metadata": {},
   "source": [
    "## 4. Model Fine-Tuning"
   ]
  },
  {
   "cell_type": "markdown",
   "metadata": {},
   "source": [
    "### 4.1. Overview\n",
    "This section outlines the process of fine-tuning a pre-trained Large Language Model (LLM) for Cyber Threat Intelligence (CTI) tasks. It includes model configuration, quantization, adding adapters (LoRA), and training setup.\n"
   ]
  },
  {
   "cell_type": "code",
   "execution_count": null,
   "metadata": {},
   "outputs": [],
   "source": [
    "import os\n",
    "import huggingface_hub\n",
    "\n",
    "huggingface_hub.login(token=os.environ.get('YOUR_huggingface_TOKEN'))"
   ]
  },
  {
   "cell_type": "markdown",
   "metadata": {},
   "source": [
    "### 4.2. Data Preparation\n",
    "- **Loading the Data:** Reads the CTI training data from a CSV file.\n",
    "- **Splitting the Data:** Splits the dataset into training and validation sets using a 90/10 split.\n",
    "- **Creating Datasets:** Converts the split data into the `Dataset` format required for training."
   ]
  },
  {
   "cell_type": "code",
   "execution_count": null,
   "metadata": {},
   "outputs": [],
   "source": [
    "from datasets import Dataset\n",
    "from sklearn.model_selection import train_test_split\n",
    "\n",
    "training_data_path = r\"Data\\finetuning_data\\cti_training_data.csv\"\n",
    "\n",
    "cti_train = pd.read_csv(training_data_path)\n",
    "\n",
    "train_set, validation_set = train_test_split(cti_train, test_size=0.1, random_state=42)\n",
    "\n",
    "train_dataset = Dataset.from_pandas(train_set)\n",
    "validation_dataset = Dataset.from_pandas(validation_set)"
   ]
  },
  {
   "cell_type": "markdown",
   "metadata": {},
   "source": [
    "### 4.3. Model Configuration"
   ]
  },
  {
   "cell_type": "markdown",
   "metadata": {},
   "source": [
    "\n",
    "- **Loading the Model:**\n",
    "  - **Model Name:** Uses the 7 billion parameter LLaMA model (`\"meta-llama/Meta-Llama-3.1-8B-Instruct\"`).\n",
    "  - **Quantization Configuration:** Configures 4-bit precision to reduce model size and computation, with `torch.float16` as the compute type and `\"nf4\"` quantization.\n",
    "\n",
    "- **Loading the Tokenizer:**\n",
    "  - **Initialization:** Loads the tokenizer to process inputs.\n",
    "  - **Special Token:** Adds `<PAD>` for padding sequences during training.\n",
    "\n",
    "- **Configuring LoRA:**\n",
    "  - **Purpose:** Adapts the model with low-rank matrices for efficient training.\n",
    "  - **Configuration:** Sets LoRA with a rank of 8 for specific model modules and integrates it to enhance the model's performance."
   ]
  },
  {
   "cell_type": "code",
   "execution_count": null,
   "metadata": {},
   "outputs": [],
   "source": [
    "import torch\n",
    "from transformers import AutoTokenizer, AutoModelForCausalLM, BitsAndBytesConfig\n",
    "from peft import LoraConfig\n",
    "\n",
    "# Load the 7b llama model\n",
    "model_id = \"meta-llama/Meta-Llama-3.1-8B-Instruct\"\n",
    "\n",
    "quantization_config = BitsAndBytesConfig(\n",
    "    load_in_4bit=True,\n",
    "    bnb_4bit_compute_dtype=torch.float16,\n",
    "    bnb_4bit_quant_type=\"nf4\"\n",
    ")\n",
    "\n",
    "# Load model\n",
    "model = AutoModelForCausalLM.from_pretrained(model_id, quantization_config=quantization_config)\n",
    "\n",
    "# Load tokenizer\n",
    "tokenizer = AutoTokenizer.from_pretrained(model_id, trust_remote_code=True)\n",
    "# Set it to a new token to correctly attend to EOS tokens.\n",
    "tokenizer.add_special_tokens({'pad_token': '<PAD>'})\n",
    "\n",
    "lora_config = LoraConfig(\n",
    "    r=8,\n",
    "    target_modules=[\"q_proj\", \"o_proj\", \"k_proj\", \"v_proj\", \"gate_proj\", \"up_proj\", \"down_proj\"],\n",
    "    bias=\"none\",\n",
    "    task_type=\"CAUSAL_LM\",\n",
    ")\n",
    "\n",
    "model.add_adapter(lora_config)"
   ]
  },
  {
   "cell_type": "markdown",
   "metadata": {},
   "source": [
    "### 4.4. Training Setup"
   ]
  },
  {
   "cell_type": "markdown",
   "metadata": {},
   "source": [
    "- **Formatting Function:**\n",
    "  - **Purpose:** Formats input data for training by combining the user input and target output into a structured format.\n",
    "  - **Implementation:** Uses a function to concatenate user and assistant texts into a single string with specific labels.\n",
    "\n",
    "- **Training Arguments:**\n",
    "  - **Configuration:** Defines training parameters such as batch size, learning rate, and number of steps.\n",
    "  - **Settings:**\n",
    "    - `per_device_train_batch_size`: Batch size per GPU/CPU.\n",
    "    - `gradient_accumulation_steps`: Number of steps to accumulate gradients.\n",
    "    - `learning_rate`: Initial learning rate.\n",
    "    - `max_steps`: Total training steps.\n",
    "    - `warmup_ratio`: Ratio of steps for learning rate warmup.\n",
    "    - `save_steps` and `logging_steps`: Frequency of saving and logging.\n",
    "\n",
    "- **Trainer Initialization:**\n",
    "  - **Purpose:** Creates a `SFTTrainer` instance for model fine-tuning.\n",
    "  - **Configuration:** Passes training arguments, datasets, tokenizer, and formatting function to the trainer.\n",
    "\n",
    "- **Output Model Location:**\n",
    "  - output_dir = `Models/llama-7b-qlora-CTI`\n"
   ]
  },
  {
   "cell_type": "code",
   "execution_count": null,
   "metadata": {},
   "outputs": [],
   "source": [
    "from trl import SFTTrainer\n",
    "from transformers import TrainingArguments\n",
    "\n",
    "\n",
    "def formatting_func(example):\n",
    "    text = f\"### USER: {example['input_text']}\\n### ASSISTANT: {example['target_output']}\"\n",
    "    return text\n",
    "\n",
    "\n",
    "output_dir = \"Models/llama-7b-qlora-CTI\"\n",
    "per_device_train_batch_size = 4\n",
    "gradient_accumulation_steps = 4\n",
    "optim = \"paged_adamw_32bit\"\n",
    "save_steps = 10\n",
    "logging_steps = 10\n",
    "learning_rate = 2e-4\n",
    "max_grad_norm = 0.3\n",
    "max_steps = 1000\n",
    "warmup_ratio = 0.03\n",
    "lr_scheduler_type = \"constant\"\n",
    "\n",
    "training_arguments = TrainingArguments(\n",
    "    output_dir=output_dir,\n",
    "    per_device_train_batch_size=per_device_train_batch_size,\n",
    "    gradient_accumulation_steps=gradient_accumulation_steps,\n",
    "    optim=optim,\n",
    "    save_steps=save_steps,\n",
    "    logging_steps=logging_steps,\n",
    "    learning_rate=learning_rate,\n",
    "    max_grad_norm=max_grad_norm,\n",
    "    max_steps=max_steps,\n",
    "    warmup_ratio=warmup_ratio,\n",
    "    lr_scheduler_type=lr_scheduler_type,\n",
    "    gradient_checkpointing=True,\n",
    "    push_to_hub=True,\n",
    ")\n",
    "\n",
    "trainer = SFTTrainer(\n",
    "    model=model,\n",
    "    args=training_arguments,\n",
    "    train_dataset=train_dataset,\n",
    "    eval_dataset=validation_dataset,\n",
    "    packing=True,\n",
    "    dataset_text_field=\"id\",\n",
    "    tokenizer=tokenizer,\n",
    "    max_seq_length=1024,\n",
    "    formatting_func=formatting_func,\n",
    ")"
   ]
  },
  {
   "cell_type": "markdown",
   "metadata": {},
   "source": [
    "### 4.5. Training Execution"
   ]
  },
  {
   "cell_type": "markdown",
   "metadata": {},
   "source": [
    "- **Training Call:**\n",
    "  - **Purpose:** Starts the training process using the previously configured `SFTTrainer`.\n",
    "  - **Implementation:** Calls the `train()` method on the `SFTTrainer` instance to begin fine-tuning the model with the specified parameters and data."
   ]
  },
  {
   "cell_type": "code",
   "execution_count": null,
   "metadata": {},
   "outputs": [],
   "source": [
    "trainer.train()"
   ]
  },
  {
   "cell_type": "markdown",
   "metadata": {},
   "source": [
    "## 5. Models Evaluation"
   ]
  },
  {
   "cell_type": "markdown",
   "metadata": {},
   "source": [
    "\n",
    "\n",
    "\n",
    "Benchmark evaluation is essential for assessing model performance on CTI tasks. It involves comparing different models using standardized benchmarks to determine their effectiveness and suitability for real-world applications.\n",
    "\n",
    "**Key Points:**\n",
    "\n",
    "- **Evaluation Functions:** Specialized functions assess models on RCM, VSP, MCQ, and TTA tasks.\n",
    "- **Benchmark Data:** Standard datasets are used for consistent measurement.\n",
    "- **Models Compared:**\n",
    "  - **Pre-trained LLaMA 3 Model**\n",
    "  - **Fine-tuned LLaMA 3 Model with CTI Data**\n",
    "  - **Google Gemini Model**\n",
    "- **Evaluation Technique**: The same Evaluation Technique used in cti-bench\n",
    "\n",
    "The same Evaluation Technique used in cti-bench\n",
    "\n",
    "The evaluation aims to compare these models' performance, highlighting their strengths and areas for improvement."
   ]
  },
  {
   "cell_type": "code",
   "execution_count": null,
   "metadata": {},
   "outputs": [],
   "source": [
    "\n",
    "from model_evaluation.evaluation import evaluate_model\n",
    "\n",
    "cti_rcm_benshmark = \"Data\\bench_data\\cti-rcm.tsv\"\n",
    "cti_vsp_benshmark = \"Data\\bench_data\\cti-vsp.tsv\"\n",
    "cti_mcq_benshmark = \"Data\\bench_data\\cti-mcq.tsv\"\n",
    "cti_tta_benshmark = \"Data\\bench_data\\cti-taa.tsv\"\n",
    "\n",
    "models = [\"Meta-Llama-3.1-8B-Instruct\", \"llama-7b-qlora-CTI\",\"Google_gemini_flash_1.5\"]\n",
    "scores = {}\n",
    "\n",
    "for model in models : \n",
    "    rcm_score = evaluate_model(model,cti_rcm_benshmark)\n",
    "    vsp_score = evaluate_model(model,cti_vsp_benshmark)\n",
    "    mcq_score = evaluate_model(model,cti_mcq_benshmark)\n",
    "    tta_score = evaluate_model(model,cti_tta_benshmark)\n",
    "    score = {\n",
    "        \"model\" : model,\n",
    "        \"rcm_score\" : rcm_score,\n",
    "        \"vsp_score\" : vsp_score,\n",
    "        \"mcq_score\" : mcq_score,\n",
    "        \"tta_score\" : tta_score\n",
    "    }\n",
    "    scores.append(scores)\n",
    "    \n",
    "df = pd.DataFrame(scores)\n",
    "\n",
    "\n",
    "df.to_csv('model_evaluation\\scores.csv', index=False)\n"
   ]
  },
  {
   "cell_type": "markdown",
   "metadata": {},
   "source": [
    "### 5.1 Models Scores Comparisation"
   ]
  },
  {
   "cell_type": "code",
   "execution_count": 16,
   "metadata": {},
   "outputs": [
    {
     "data": {
      "image/png": "[encoded data removed]",
      "text/plain": [
       "<Figure size 1000x600 with 1 Axes>"
      ]
     },
     "metadata": {},
     "output_type": "display_data"
    }
   ],
   "source": [
    "import pandas as pd\n",
    "import matplotlib.pyplot as plt\n",
    "import seaborn as sns\n",
    "\n",
    "# Load scores data\n",
    "scores_path = 'model_evaluation/scores.csv'\n",
    "scores = pd.read_csv(scores_path)\n",
    "\n",
    "# Set the style for seaborn\n",
    "sns.set(style=\"whitegrid\")\n",
    "\n",
    "# 1. Bar Plot\n",
    "plt.figure(figsize=(10, 6))\n",
    "scores_melted = scores.melt(id_vars='model', var_name='metric', value_name='score')\n",
    "sns.barplot(x='metric', y='score', hue='model', data=scores_melted)\n",
    "plt.title('Model Evaluation Scores by Metric')\n",
    "plt.show()\n",
    "\n"
   ]
  },
  {
   "cell_type": "markdown",
   "metadata": {},
   "source": [
    "### 5.2 Analysis and Insights"
   ]
  },
  {
   "cell_type": "markdown",
   "metadata": {},
   "source": [
    "\n",
    "\n",
    "The evaluation results highlight several key insights:\n",
    "\n",
    "- Fine-Tuned Model vs. Base Model: The fine-tuned LLaMA model, adapted with CTI-specific data, shows better performance in all areas compared to the base model. This improvement suggests that fine-tuning with specialized data makes the model more effective for CTI tasks.\n",
    "\n",
    "- Comparison with Gemini Model: When comparing the fine-tuned LLaMA model to Google's Gemini model, the performance is very similar. Although the Gemini model has more parameters and might be stronger in other areas, the fine-tuned LLaMA model holds up well for CTI tasks."
   ]
  },
  {
   "cell_type": "markdown",
   "metadata": {},
   "source": [
    "## 6. Conclusion "
   ]
  },
  {
   "cell_type": "markdown",
   "metadata": {},
   "source": [
    "\n",
    "- This project shows that fine-tuning a pre-trained LLaMA model with CTI data makes it better at handling cybersecurity tasks than the base model. The fine-tuned LLaMA model performs almost as well as the Google Gemini model, showing that each model has its own strengths.\n",
    "\n",
    "- In simple terms, customizing models for specific tasks can make them much more effective. Future work could look into new ways to fine-tune models and explore different designs to improve performance even more, not just in cybersecurity but in other areas too."
   ]
  }
 ],
 "metadata": {
  "kernelspec": {
   "display_name": "Python 3",
   "language": "python",
   "name": "python3"
  },
  "language_info": {
   "codemirror_mode": {
    "name": "ipython",
    "version": 3
   },
   "file_extension": ".py",
   "mimetype": "text/x-python",
   "name": "python",
   "nbconvert_exporter": "python",
   "pygments_lexer": "ipython3",
   "version": "3.11.3"
  }
 },
 "nbformat": 4,
 "nbformat_minor": 2
}
